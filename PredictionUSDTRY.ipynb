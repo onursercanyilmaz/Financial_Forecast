{
  "nbformat": 4,
  "nbformat_minor": 0,
  "metadata": {
    "colab": {
      "name": "PredictionUSDTRY.ipynb",
      "provenance": [],
      "collapsed_sections": []
    },
    "kernelspec": {
      "name": "python3",
      "display_name": "Python 3"
    }
  },
  "cells": [
    {
      "cell_type": "code",
      "metadata": {
        "id": "6vlVeMVRouJ6",
        "colab_type": "code",
        "colab": {}
      },
      "source": [
        "import math\n",
        "import pandas_datareader as web\n",
        "import numpy as np\n",
        "import pandas as pd\n",
        "from sklearn.preprocessing import MinMaxScaler\n",
        "from keras.models import Sequential\n",
        "from keras.layers import Dense, LSTM\n",
        "import matplotlib.pyplot as plt\n",
        "plt.style.use('fivethirtyeight')"
      ],
      "execution_count": 0,
      "outputs": []
    },
    {
      "cell_type": "code",
      "metadata": {
        "id": "GqdhcbxVqEjt",
        "colab_type": "code",
        "colab": {
          "base_uri": "https://localhost:8080/",
          "height": 455
        },
        "outputId": "5ed59f32-35c5-408c-9f97-bd1eba42ea44"
      },
      "source": [
        "#Get the data\n",
        "df = web.DataReader('USDTRY=X', data_source='yahoo', start='2010-01-01', end='2020-05-13')\n",
        "#Show the data\n",
        "df"
      ],
      "execution_count": 43,
      "outputs": [
        {
          "output_type": "execute_result",
          "data": {
            "text/html": [
              "<div>\n",
              "<style scoped>\n",
              "    .dataframe tbody tr th:only-of-type {\n",
              "        vertical-align: middle;\n",
              "    }\n",
              "\n",
              "    .dataframe tbody tr th {\n",
              "        vertical-align: top;\n",
              "    }\n",
              "\n",
              "    .dataframe thead th {\n",
              "        text-align: right;\n",
              "    }\n",
              "</style>\n",
              "<table border=\"1\" class=\"dataframe\">\n",
              "  <thead>\n",
              "    <tr style=\"text-align: right;\">\n",
              "      <th></th>\n",
              "      <th>High</th>\n",
              "      <th>Low</th>\n",
              "      <th>Open</th>\n",
              "      <th>Close</th>\n",
              "      <th>Volume</th>\n",
              "      <th>Adj Close</th>\n",
              "    </tr>\n",
              "    <tr>\n",
              "      <th>Date</th>\n",
              "      <th></th>\n",
              "      <th></th>\n",
              "      <th></th>\n",
              "      <th></th>\n",
              "      <th></th>\n",
              "      <th></th>\n",
              "    </tr>\n",
              "  </thead>\n",
              "  <tbody>\n",
              "    <tr>\n",
              "      <th>2010-01-04</th>\n",
              "      <td>1.49760</td>\n",
              "      <td>1.47080</td>\n",
              "      <td>1.49720</td>\n",
              "      <td>1.47310</td>\n",
              "      <td>0.0</td>\n",
              "      <td>1.47310</td>\n",
              "    </tr>\n",
              "    <tr>\n",
              "      <th>2010-01-05</th>\n",
              "      <td>1.47770</td>\n",
              "      <td>1.46450</td>\n",
              "      <td>1.47330</td>\n",
              "      <td>1.47270</td>\n",
              "      <td>0.0</td>\n",
              "      <td>1.47270</td>\n",
              "    </tr>\n",
              "    <tr>\n",
              "      <th>2010-01-06</th>\n",
              "      <td>1.48010</td>\n",
              "      <td>1.46990</td>\n",
              "      <td>1.47250</td>\n",
              "      <td>1.47140</td>\n",
              "      <td>0.0</td>\n",
              "      <td>1.47140</td>\n",
              "    </tr>\n",
              "    <tr>\n",
              "      <th>2010-01-07</th>\n",
              "      <td>1.48130</td>\n",
              "      <td>1.46880</td>\n",
              "      <td>1.47150</td>\n",
              "      <td>1.47150</td>\n",
              "      <td>0.0</td>\n",
              "      <td>1.47150</td>\n",
              "    </tr>\n",
              "    <tr>\n",
              "      <th>2010-01-08</th>\n",
              "      <td>1.47310</td>\n",
              "      <td>1.45600</td>\n",
              "      <td>1.47160</td>\n",
              "      <td>1.45800</td>\n",
              "      <td>0.0</td>\n",
              "      <td>1.45800</td>\n",
              "    </tr>\n",
              "    <tr>\n",
              "      <th>...</th>\n",
              "      <td>...</td>\n",
              "      <td>...</td>\n",
              "      <td>...</td>\n",
              "      <td>...</td>\n",
              "      <td>...</td>\n",
              "      <td>...</td>\n",
              "    </tr>\n",
              "    <tr>\n",
              "      <th>2020-05-06</th>\n",
              "      <td>7.26682</td>\n",
              "      <td>7.07557</td>\n",
              "      <td>7.19672</td>\n",
              "      <td>7.19708</td>\n",
              "      <td>0.0</td>\n",
              "      <td>7.19708</td>\n",
              "    </tr>\n",
              "    <tr>\n",
              "      <th>2020-05-07</th>\n",
              "      <td>7.16700</td>\n",
              "      <td>7.07586</td>\n",
              "      <td>7.09350</td>\n",
              "      <td>7.08830</td>\n",
              "      <td>0.0</td>\n",
              "      <td>7.08830</td>\n",
              "    </tr>\n",
              "    <tr>\n",
              "      <th>2020-05-10</th>\n",
              "      <td>7.10340</td>\n",
              "      <td>7.05954</td>\n",
              "      <td>7.08320</td>\n",
              "      <td>7.09400</td>\n",
              "      <td>0.0</td>\n",
              "      <td>7.09400</td>\n",
              "    </tr>\n",
              "    <tr>\n",
              "      <th>2020-05-11</th>\n",
              "      <td>7.06720</td>\n",
              "      <td>6.97612</td>\n",
              "      <td>7.05980</td>\n",
              "      <td>7.06340</td>\n",
              "      <td>0.0</td>\n",
              "      <td>7.06340</td>\n",
              "    </tr>\n",
              "    <tr>\n",
              "      <th>2020-05-13</th>\n",
              "      <td>6.99700</td>\n",
              "      <td>6.95900</td>\n",
              "      <td>6.99137</td>\n",
              "      <td>6.97658</td>\n",
              "      <td>0.0</td>\n",
              "      <td>6.97658</td>\n",
              "    </tr>\n",
              "  </tbody>\n",
              "</table>\n",
              "<p>2698 rows × 6 columns</p>\n",
              "</div>"
            ],
            "text/plain": [
              "               High      Low     Open    Close  Volume  Adj Close\n",
              "Date                                                             \n",
              "2010-01-04  1.49760  1.47080  1.49720  1.47310     0.0    1.47310\n",
              "2010-01-05  1.47770  1.46450  1.47330  1.47270     0.0    1.47270\n",
              "2010-01-06  1.48010  1.46990  1.47250  1.47140     0.0    1.47140\n",
              "2010-01-07  1.48130  1.46880  1.47150  1.47150     0.0    1.47150\n",
              "2010-01-08  1.47310  1.45600  1.47160  1.45800     0.0    1.45800\n",
              "...             ...      ...      ...      ...     ...        ...\n",
              "2020-05-06  7.26682  7.07557  7.19672  7.19708     0.0    7.19708\n",
              "2020-05-07  7.16700  7.07586  7.09350  7.08830     0.0    7.08830\n",
              "2020-05-10  7.10340  7.05954  7.08320  7.09400     0.0    7.09400\n",
              "2020-05-11  7.06720  6.97612  7.05980  7.06340     0.0    7.06340\n",
              "2020-05-13  6.99700  6.95900  6.99137  6.97658     0.0    6.97658\n",
              "\n",
              "[2698 rows x 6 columns]"
            ]
          },
          "metadata": {
            "tags": []
          },
          "execution_count": 43
        }
      ]
    },
    {
      "cell_type": "code",
      "metadata": {
        "id": "hCVzysNGsl70",
        "colab_type": "code",
        "colab": {
          "base_uri": "https://localhost:8080/",
          "height": 35
        },
        "outputId": "ece2e0ab-5c3c-401f-aacf-aa707b8404ee"
      },
      "source": [
        "#Get the number of rows and columns in the dataset\n",
        "df.shape"
      ],
      "execution_count": 44,
      "outputs": [
        {
          "output_type": "execute_result",
          "data": {
            "text/plain": [
              "(2698, 6)"
            ]
          },
          "metadata": {
            "tags": []
          },
          "execution_count": 44
        }
      ]
    },
    {
      "cell_type": "code",
      "metadata": {
        "id": "2p28mhsTuD8D",
        "colab_type": "code",
        "colab": {
          "base_uri": "https://localhost:8080/",
          "height": 558
        },
        "outputId": "d3e002ed-61b7-48d3-b860-9855ba0eaa05"
      },
      "source": [
        "#Visualize the closing price history\n",
        "plt.figure(figsize=(16,8))\n",
        "plt.title('Close Price History')\n",
        "plt.plot(df['Close'])\n",
        "plt.xlabel('Date', fontsize=18)\n",
        "plt.ylabel('Close Price', fontsize=18)\n",
        "plt.show()"
      ],
      "execution_count": 45,
      "outputs": [
        {
          "output_type": "display_data",
          "data": {
            "image/png": "[encoded data removed]",
            "text/plain": [
              "<Figure size 1152x576 with 1 Axes>"
            ]
          },
          "metadata": {
            "tags": []
          }
        }
      ]
    },
    {
      "cell_type": "code",
      "metadata": {
        "id": "JjouOZCxuSLi",
        "colab_type": "code",
        "colab": {
          "base_uri": "https://localhost:8080/",
          "height": 35
        },
        "outputId": "fc8b0b6c-429e-4f88-d2e0-269e2863f532"
      },
      "source": [
        "#Create a new dataframe with only the Close column\n",
        "data = df.filter(['Close'])\n",
        "#Convert the dataframe to a numpy array\n",
        "dataset = data.values\n",
        "#Get the number of rows to train the model on\n",
        "training_data_len = math.ceil(len(dataset)*.8)\n",
        "\n",
        "training_data_len"
      ],
      "execution_count": 46,
      "outputs": [
        {
          "output_type": "execute_result",
          "data": {
            "text/plain": [
              "2159"
            ]
          },
          "metadata": {
            "tags": []
          },
          "execution_count": 46
        }
      ]
    },
    {
      "cell_type": "code",
      "metadata": {
        "id": "LPIa98SNwLnR",
        "colab_type": "code",
        "colab": {
          "base_uri": "https://localhost:8080/",
          "height": 144
        },
        "outputId": "4c87696e-d309-4e21-8855-de514d3cac3c"
      },
      "source": [
        "#Scale the data\n",
        "scaler = MinMaxScaler(feature_range=(0,1))\n",
        "scaled_data = scaler.fit_transform(dataset)\n",
        "\n",
        "scaled_data"
      ],
      "execution_count": 47,
      "outputs": [
        {
          "output_type": "execute_result",
          "data": {
            "text/plain": [
              "array([[0.01381762],\n",
              "       [0.01374871],\n",
              "       [0.01352474],\n",
              "       ...,\n",
              "       [0.98224034],\n",
              "       [0.97696826],\n",
              "       [0.96201014]])"
            ]
          },
          "metadata": {
            "tags": []
          },
          "execution_count": 47
        }
      ]
    },
    {
      "cell_type": "code",
      "metadata": {
        "id": "CSuuVLVuw9gM",
        "colab_type": "code",
        "colab": {
          "base_uri": "https://localhost:8080/",
          "height": 726
        },
        "outputId": "a0bd25ae-3b5a-4a94-b676-88f5f70f893e"
      },
      "source": [
        "#Create the training dataset\n",
        "#Create the scaled train dataset\n",
        "train_data = scaled_data[0:training_data_len, :]\n",
        "#Split the data into x_train and y_train datasets\n",
        "x_train = []\n",
        "y_train = []\n",
        "\n",
        "for i in range(60, len(train_data)):\n",
        "  x_train.append(train_data[i-60:i, 0])\n",
        "  y_train.append(train_data[i, 0])\n",
        "  if i <=61:\n",
        "    print(x_train)\n",
        "    print(y_train)\n",
        "    print()"
      ],
      "execution_count": 48,
      "outputs": [
        {
          "output_type": "stream",
          "text": [
            "[array([0.01381762, 0.01374871, 0.01352474, 0.01354197, 0.01121605,\n",
            "       0.00987219, 0.01044076, 0.01011339, 0.01068196, 0.01087147,\n",
            "       0.00990665, 0.01078533, 0.01369702, 0.01602294, 0.01647089,\n",
            "       0.01605739, 0.01676379, 0.01821102, 0.01791812, 0.01779751,\n",
            "       0.0154027 , 0.01614355, 0.01705667, 0.02205308, 0.02322463,\n",
            "       0.02227705, 0.01965824, 0.02107103, 0.02034741, 0.02089873,\n",
            "       0.02115716, 0.01936536, 0.02041632, 0.02282838, 0.02038186,\n",
            "       0.02343139, 0.02717008, 0.02654984, 0.02644645, 0.02641201,\n",
            "       0.02460295, 0.02429284, 0.02480971, 0.02720453, 0.02477525,\n",
            "       0.02374151, 0.02410331, 0.02393104, 0.0237932 , 0.02310403,\n",
            "       0.02298343, 0.02193247, 0.02034741, 0.02289729, 0.02437898,\n",
            "       0.02475802, 0.02482693, 0.02710116, 0.02584344, 0.02446512])]\n",
            "[0.023121263221058258]\n",
            "\n",
            "[array([0.01381762, 0.01374871, 0.01352474, 0.01354197, 0.01121605,\n",
            "       0.00987219, 0.01044076, 0.01011339, 0.01068196, 0.01087147,\n",
            "       0.00990665, 0.01078533, 0.01369702, 0.01602294, 0.01647089,\n",
            "       0.01605739, 0.01676379, 0.01821102, 0.01791812, 0.01779751,\n",
            "       0.0154027 , 0.01614355, 0.01705667, 0.02205308, 0.02322463,\n",
            "       0.02227705, 0.01965824, 0.02107103, 0.02034741, 0.02089873,\n",
            "       0.02115716, 0.01936536, 0.02041632, 0.02282838, 0.02038186,\n",
            "       0.02343139, 0.02717008, 0.02654984, 0.02644645, 0.02641201,\n",
            "       0.02460295, 0.02429284, 0.02480971, 0.02720453, 0.02477525,\n",
            "       0.02374151, 0.02410331, 0.02393104, 0.0237932 , 0.02310403,\n",
            "       0.02298343, 0.02193247, 0.02034741, 0.02289729, 0.02437898,\n",
            "       0.02475802, 0.02482693, 0.02710116, 0.02584344, 0.02446512]), array([0.01374871, 0.01352474, 0.01354197, 0.01121605, 0.00987219,\n",
            "       0.01044076, 0.01011339, 0.01068196, 0.01087147, 0.00990665,\n",
            "       0.01078533, 0.01369702, 0.01602294, 0.01647089, 0.01605739,\n",
            "       0.01676379, 0.01821102, 0.01791812, 0.01779751, 0.0154027 ,\n",
            "       0.01614355, 0.01705667, 0.02205308, 0.02322463, 0.02227705,\n",
            "       0.01965824, 0.02107103, 0.02034741, 0.02089873, 0.02115716,\n",
            "       0.01936536, 0.02041632, 0.02282838, 0.02038186, 0.02343139,\n",
            "       0.02717008, 0.02654984, 0.02644645, 0.02641201, 0.02460295,\n",
            "       0.02429284, 0.02480971, 0.02720453, 0.02477525, 0.02374151,\n",
            "       0.02410331, 0.02393104, 0.0237932 , 0.02310403, 0.02298343,\n",
            "       0.02193247, 0.02034741, 0.02289729, 0.02437898, 0.02475802,\n",
            "       0.02482693, 0.02710116, 0.02584344, 0.02446512, 0.02312126])]\n",
            "[0.023121263221058258, 0.023293560893599935]\n",
            "\n"
          ],
          "name": "stdout"
        }
      ]
    },
    {
      "cell_type": "code",
      "metadata": {
        "id": "fQbHn_XMyF0u",
        "colab_type": "code",
        "colab": {}
      },
      "source": [
        "#Convert the x_train and y_train to numpy array\n",
        "x_train, y_train = np.array(x_train), np.array(y_train)"
      ],
      "execution_count": 0,
      "outputs": []
    },
    {
      "cell_type": "code",
      "metadata": {
        "id": "GdupG0pozSo-",
        "colab_type": "code",
        "colab": {
          "base_uri": "https://localhost:8080/",
          "height": 35
        },
        "outputId": "c569d2d9-69f7-4be2-eca5-ca48cfc6668d"
      },
      "source": [
        "# Reshape the data\n",
        "x_train = np.reshape(x_train, (x_train.shape[0],x_train.shape[1],1))\n",
        "x_train.shape"
      ],
      "execution_count": 51,
      "outputs": [
        {
          "output_type": "execute_result",
          "data": {
            "text/plain": [
              "(2099, 60, 1)"
            ]
          },
          "metadata": {
            "tags": []
          },
          "execution_count": 51
        }
      ]
    },
    {
      "cell_type": "code",
      "metadata": {
        "id": "buIIABtPzwRt",
        "colab_type": "code",
        "colab": {}
      },
      "source": [
        "#Built the LSTM model\n",
        "model = Sequential()\n",
        "model.add(LSTM(50, return_sequences=True, input_shape =(x_train.shape[1],1)))\n",
        "model.add(LSTM(50, return_sequences=False))\n",
        "model.add(Dense(25))\n",
        "model.add(Dense(1))"
      ],
      "execution_count": 0,
      "outputs": []
    },
    {
      "cell_type": "code",
      "metadata": {
        "id": "GngdFNQJ0hdI",
        "colab_type": "code",
        "colab": {}
      },
      "source": [
        "#Compile the module\n",
        "model.compile(optimizer='adam', loss='mean_squared_error')"
      ],
      "execution_count": 0,
      "outputs": []
    },
    {
      "cell_type": "code",
      "metadata": {
        "id": "auRlGl5Q00J5",
        "colab_type": "code",
        "colab": {
          "base_uri": "https://localhost:8080/",
          "height": 72
        },
        "outputId": "aafc36fb-43f1-4fc2-b28a-2fae481bda1c"
      },
      "source": [
        "#Train the model\n",
        "model.fit(x_train, y_train, batch_size=1, epochs=1)"
      ],
      "execution_count": 55,
      "outputs": [
        {
          "output_type": "stream",
          "text": [
            "Epoch 1/1\n",
            "2099/2099 [==============================] - 77s 37ms/step - loss: 2.2535e-04\n"
          ],
          "name": "stdout"
        },
        {
          "output_type": "execute_result",
          "data": {
            "text/plain": [
              "<keras.callbacks.callbacks.History at 0x7f93dbdc0e48>"
            ]
          },
          "metadata": {
            "tags": []
          },
          "execution_count": 55
        }
      ]
    },
    {
      "cell_type": "code",
      "metadata": {
        "id": "ZQwCMEjb1IEP",
        "colab_type": "code",
        "colab": {}
      },
      "source": [
        "#Create the testing dataset\n",
        "#Create a new array containing scaled vlaues from index 2099 to 2698\n",
        "test_data = scaled_data[training_data_len - 60:,:]\n",
        "#Create the datasets x_test and y_test\n",
        "x_test = []\n",
        "y_test = dataset[training_data_len:,:] #actual test values\n",
        "for i in range(60, len(test_data)):\n",
        "  x_test.append(test_data[i-60:i, 0])\n"
      ],
      "execution_count": 0,
      "outputs": []
    },
    {
      "cell_type": "code",
      "metadata": {
        "id": "rmzyuaSO3YKg",
        "colab_type": "code",
        "colab": {}
      },
      "source": [
        "#Convert the data to a numpy array\n",
        "x_test = np.array(x_test)"
      ],
      "execution_count": 0,
      "outputs": []
    },
    {
      "cell_type": "code",
      "metadata": {
        "id": "xGJ8Ktui35BW",
        "colab_type": "code",
        "colab": {}
      },
      "source": [
        "#Reshape the data\n",
        "x_test = np.reshape(x_test, (x_test.shape[0], x_test.shape[1], 1))"
      ],
      "execution_count": 0,
      "outputs": []
    },
    {
      "cell_type": "code",
      "metadata": {
        "id": "7y0WDbQE5C4x",
        "colab_type": "code",
        "colab": {}
      },
      "source": [
        "#Get the models predicted price values\n",
        "predictions = model.predict(x_test)\n",
        "predictions = scaler.inverse_transform(predictions)"
      ],
      "execution_count": 0,
      "outputs": []
    },
    {
      "cell_type": "code",
      "metadata": {
        "id": "V21qk_-T5bZS",
        "colab_type": "code",
        "colab": {
          "base_uri": "https://localhost:8080/",
          "height": 35
        },
        "outputId": "fdbe8492-e21b-46d9-c27b-786269698a95"
      },
      "source": [
        "#Get the root mean squared error (RMSE)\n",
        "rmse = np.sqrt(np.mean(predictions - y_test)**2)\n",
        "rmse "
      ],
      "execution_count": 66,
      "outputs": [
        {
          "output_type": "execute_result",
          "data": {
            "text/plain": [
              "0.23214952180469633"
            ]
          },
          "metadata": {
            "tags": []
          },
          "execution_count": 66
        }
      ]
    },
    {
      "cell_type": "code",
      "metadata": {
        "id": "3XoG2aj15ySS",
        "colab_type": "code",
        "colab": {
          "base_uri": "https://localhost:8080/",
          "height": 667
        },
        "outputId": "f86660d2-210d-490e-8d53-10267cd08e5e"
      },
      "source": [
        "#Plot the data\n",
        "train = data[:training_data_len]\n",
        "valid = data[training_data_len:]\n",
        "valid['Predictions'] = predictions\n",
        "#Visualize the data\n",
        "plt.figure(figsize=(16,8))\n",
        "plt.title('Model')\n",
        "plt.xlabel('Date', fontsize=18)\n",
        "plt.ylabel('Close Price', fontsize=18)\n",
        "plt.plot(train['Close'])\n",
        "plt.plot(valid[['Close', 'Predictions']])\n",
        "plt.legend(['Train', 'Val', 'Predictions'], loc='lower right')\n",
        "plt.show()\n"
      ],
      "execution_count": 69,
      "outputs": [
        {
          "output_type": "stream",
          "text": [
            "/usr/local/lib/python3.6/dist-packages/ipykernel_launcher.py:4: SettingWithCopyWarning: \n",
            "A value is trying to be set on a copy of a slice from a DataFrame.\n",
            "Try using .loc[row_indexer,col_indexer] = value instead\n",
            "\n",
            "See the caveats in the documentation: https://pandas.pydata.org/pandas-docs/stable/user_guide/indexing.html#returning-a-view-versus-a-copy\n",
            "  after removing the cwd from sys.path.\n"
          ],
          "name": "stderr"
        },
        {
          "output_type": "display_data",
          "data": {
            "image/png": "[encoded data removed]",
            "text/plain": [
              "<Figure size 1152x576 with 1 Axes>"
            ]
          },
          "metadata": {
            "tags": []
          }
        }
      ]
    },
    {
      "cell_type": "code",
      "metadata": {
        "id": "-HEfihS47Npx",
        "colab_type": "code",
        "colab": {}
      },
      "source": [
        "#Blue : Trained data\n",
        "#Red : Actual graph\n",
        "#Yellow: Prediction"
      ],
      "execution_count": 0,
      "outputs": []
    },
    {
      "cell_type": "code",
      "metadata": {
        "id": "dKHG1YhU709Q",
        "colab_type": "code",
        "colab": {
          "base_uri": "https://localhost:8080/",
          "height": 455
        },
        "outputId": "ad7926f2-3b5d-4c35-eb36-aad880bfd2ae"
      },
      "source": [
        "#Show the valid and predicted prices\n",
        "valid"
      ],
      "execution_count": 71,
      "outputs": [
        {
          "output_type": "execute_result",
          "data": {
            "text/html": [
              "<div>\n",
              "<style scoped>\n",
              "    .dataframe tbody tr th:only-of-type {\n",
              "        vertical-align: middle;\n",
              "    }\n",
              "\n",
              "    .dataframe tbody tr th {\n",
              "        vertical-align: top;\n",
              "    }\n",
              "\n",
              "    .dataframe thead th {\n",
              "        text-align: right;\n",
              "    }\n",
              "</style>\n",
              "<table border=\"1\" class=\"dataframe\">\n",
              "  <thead>\n",
              "    <tr style=\"text-align: right;\">\n",
              "      <th></th>\n",
              "      <th>Close</th>\n",
              "      <th>Predictions</th>\n",
              "    </tr>\n",
              "    <tr>\n",
              "      <th>Date</th>\n",
              "      <th></th>\n",
              "      <th></th>\n",
              "    </tr>\n",
              "  </thead>\n",
              "  <tbody>\n",
              "    <tr>\n",
              "      <th>2018-04-18</th>\n",
              "      <td>4.01700</td>\n",
              "      <td>4.016564</td>\n",
              "    </tr>\n",
              "    <tr>\n",
              "      <th>2018-04-19</th>\n",
              "      <td>4.04582</td>\n",
              "      <td>4.010355</td>\n",
              "    </tr>\n",
              "    <tr>\n",
              "      <th>2018-04-22</th>\n",
              "      <td>4.07850</td>\n",
              "      <td>4.002943</td>\n",
              "    </tr>\n",
              "    <tr>\n",
              "      <th>2018-04-23</th>\n",
              "      <td>4.10770</td>\n",
              "      <td>3.999158</td>\n",
              "    </tr>\n",
              "    <tr>\n",
              "      <th>2018-04-24</th>\n",
              "      <td>4.08648</td>\n",
              "      <td>4.000693</td>\n",
              "    </tr>\n",
              "    <tr>\n",
              "      <th>...</th>\n",
              "      <td>...</td>\n",
              "      <td>...</td>\n",
              "    </tr>\n",
              "    <tr>\n",
              "      <th>2020-05-06</th>\n",
              "      <td>7.19708</td>\n",
              "      <td>6.603503</td>\n",
              "    </tr>\n",
              "    <tr>\n",
              "      <th>2020-05-07</th>\n",
              "      <td>7.08830</td>\n",
              "      <td>6.629611</td>\n",
              "    </tr>\n",
              "    <tr>\n",
              "      <th>2020-05-10</th>\n",
              "      <td>7.09400</td>\n",
              "      <td>6.646763</td>\n",
              "    </tr>\n",
              "    <tr>\n",
              "      <th>2020-05-11</th>\n",
              "      <td>7.06340</td>\n",
              "      <td>6.658659</td>\n",
              "    </tr>\n",
              "    <tr>\n",
              "      <th>2020-05-13</th>\n",
              "      <td>6.97658</td>\n",
              "      <td>6.663239</td>\n",
              "    </tr>\n",
              "  </tbody>\n",
              "</table>\n",
              "<p>539 rows × 2 columns</p>\n",
              "</div>"
            ],
            "text/plain": [
              "              Close  Predictions\n",
              "Date                            \n",
              "2018-04-18  4.01700     4.016564\n",
              "2018-04-19  4.04582     4.010355\n",
              "2018-04-22  4.07850     4.002943\n",
              "2018-04-23  4.10770     3.999158\n",
              "2018-04-24  4.08648     4.000693\n",
              "...             ...          ...\n",
              "2020-05-06  7.19708     6.603503\n",
              "2020-05-07  7.08830     6.629611\n",
              "2020-05-10  7.09400     6.646763\n",
              "2020-05-11  7.06340     6.658659\n",
              "2020-05-13  6.97658     6.663239\n",
              "\n",
              "[539 rows x 2 columns]"
            ]
          },
          "metadata": {
            "tags": []
          },
          "execution_count": 71
        }
      ]
    },
    {
      "cell_type": "code",
      "metadata": {
        "id": "aC-1CA7o76Rd",
        "colab_type": "code",
        "colab": {
          "base_uri": "https://localhost:8080/",
          "height": 35
        },
        "outputId": "4a181b2f-9bee-4969-e47a-454a771f7ff9"
      },
      "source": [
        "#Get the quote\n",
        "usd_quote = web.DataReader('USDTRY=X', data_source='yahoo', start='2010-01-01', end='2020-05-14')\n",
        "#Create a new dataframe\n",
        "new_df = usd_quote.filter(['Close'])\n",
        "#Get the last 60 day closing price values and convert the dataframe to an array\n",
        "last_60_days = new_df[-60:].values\n",
        "#Scale the data to be values between 0 and 1\n",
        "last_60_days_scaled = scaler.transform(last_60_days)\n",
        "#Create an empty list\n",
        "X_test = []\n",
        "#Append the pas t60 days\n",
        "X_test.append(last_60_days_scaled)\n",
        "#Convert the X_test dataset to a numpy array\n",
        "X_test = np.array(X_test)\n",
        "#Reshape the data as 3D\n",
        "X_test = np.reshape(X_test, (X_test.shape[0], X_test.shape[1], 1))\n",
        "#Get the predicted scaled price\n",
        "pred_price = model.predict(X_test)\n",
        "#Undo the scaling\n",
        "pred_price = scaler.inverse_transform(pred_price)\n",
        "print(pred_price)"
      ],
      "execution_count": 76,
      "outputs": [
        {
          "output_type": "stream",
          "text": [
            "[[6.656268]]\n"
          ],
          "name": "stdout"
        }
      ]
    },
    {
      "cell_type": "code",
      "metadata": {
        "id": "BeKCayQx-ARg",
        "colab_type": "code",
        "colab": {}
      },
      "source": [
        "#Today is 2020-05-13 and that's prediction for 2020-05-14"
      ],
      "execution_count": 0,
      "outputs": []
    }
  ]
}
