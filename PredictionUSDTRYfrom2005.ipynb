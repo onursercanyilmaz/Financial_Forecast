{
  "nbformat": 4,
  "nbformat_minor": 0,
  "metadata": {
    "colab": {
      "name": "PredictionUSDTRY.ipynb",
      "provenance": [],
      "collapsed_sections": []
    },
    "kernelspec": {
      "name": "python3",
      "display_name": "Python 3"
    }
  },
  "cells": [
    {
      "cell_type": "code",
      "metadata": {
        "id": "6vlVeMVRouJ6",
        "colab_type": "code",
        "colab": {}
      },
      "source": [
        "import math\n",
        "import pandas_datareader as web\n",
        "import numpy as np\n",
        "import pandas as pd\n",
        "from sklearn.preprocessing import MinMaxScaler\n",
        "from keras.models import Sequential\n",
        "from keras.layers import Dense, LSTM\n",
        "import matplotlib.pyplot as plt\n",
        "plt.style.use('fivethirtyeight')"
      ],
      "execution_count": 0,
      "outputs": []
    },
    {
      "cell_type": "code",
      "metadata": {
        "id": "GqdhcbxVqEjt",
        "colab_type": "code",
        "colab": {
          "base_uri": "https://localhost:8080/",
          "height": 455
        },
        "outputId": "5af94212-1afe-4576-812e-855ebd2ba2d8"
      },
      "source": [
        "#Get the data\n",
        "df = web.DataReader('USDTRY=X', data_source='yahoo', start='2001-01-01', end='2020-05-13')\n",
        "#Show the data\n",
        "df"
      ],
      "execution_count": 81,
      "outputs": [
        {
          "output_type": "execute_result",
          "data": {
            "text/html": [
              "<div>\n",
              "<style scoped>\n",
              "    .dataframe tbody tr th:only-of-type {\n",
              "        vertical-align: middle;\n",
              "    }\n",
              "\n",
              "    .dataframe tbody tr th {\n",
              "        vertical-align: top;\n",
              "    }\n",
              "\n",
              "    .dataframe thead th {\n",
              "        text-align: right;\n",
              "    }\n",
              "</style>\n",
              "<table border=\"1\" class=\"dataframe\">\n",
              "  <thead>\n",
              "    <tr style=\"text-align: right;\">\n",
              "      <th></th>\n",
              "      <th>High</th>\n",
              "      <th>Low</th>\n",
              "      <th>Open</th>\n",
              "      <th>Close</th>\n",
              "      <th>Volume</th>\n",
              "      <th>Adj Close</th>\n",
              "    </tr>\n",
              "    <tr>\n",
              "      <th>Date</th>\n",
              "      <th></th>\n",
              "      <th></th>\n",
              "      <th></th>\n",
              "      <th></th>\n",
              "      <th></th>\n",
              "      <th></th>\n",
              "    </tr>\n",
              "  </thead>\n",
              "  <tbody>\n",
              "    <tr>\n",
              "      <th>2005-01-03</th>\n",
              "      <td>1.34550</td>\n",
              "      <td>1.33680</td>\n",
              "      <td>1.34550</td>\n",
              "      <td>1.34400</td>\n",
              "      <td>0.0</td>\n",
              "      <td>1.34400</td>\n",
              "    </tr>\n",
              "    <tr>\n",
              "      <th>2005-01-04</th>\n",
              "      <td>1.35100</td>\n",
              "      <td>1.33680</td>\n",
              "      <td>1.33680</td>\n",
              "      <td>1.35100</td>\n",
              "      <td>0.0</td>\n",
              "      <td>1.35100</td>\n",
              "    </tr>\n",
              "    <tr>\n",
              "      <th>2005-01-05</th>\n",
              "      <td>1.38650</td>\n",
              "      <td>1.35450</td>\n",
              "      <td>1.35450</td>\n",
              "      <td>1.37400</td>\n",
              "      <td>0.0</td>\n",
              "      <td>1.37400</td>\n",
              "    </tr>\n",
              "    <tr>\n",
              "      <th>2005-01-06</th>\n",
              "      <td>1.40580</td>\n",
              "      <td>1.37800</td>\n",
              "      <td>1.37800</td>\n",
              "      <td>1.39250</td>\n",
              "      <td>0.0</td>\n",
              "      <td>1.39250</td>\n",
              "    </tr>\n",
              "    <tr>\n",
              "      <th>2005-01-07</th>\n",
              "      <td>1.39400</td>\n",
              "      <td>1.36150</td>\n",
              "      <td>1.38700</td>\n",
              "      <td>1.39400</td>\n",
              "      <td>0.0</td>\n",
              "      <td>1.39400</td>\n",
              "    </tr>\n",
              "    <tr>\n",
              "      <th>...</th>\n",
              "      <td>...</td>\n",
              "      <td>...</td>\n",
              "      <td>...</td>\n",
              "      <td>...</td>\n",
              "      <td>...</td>\n",
              "      <td>...</td>\n",
              "    </tr>\n",
              "    <tr>\n",
              "      <th>2020-05-06</th>\n",
              "      <td>7.26682</td>\n",
              "      <td>7.07557</td>\n",
              "      <td>7.19672</td>\n",
              "      <td>7.19708</td>\n",
              "      <td>0.0</td>\n",
              "      <td>7.19708</td>\n",
              "    </tr>\n",
              "    <tr>\n",
              "      <th>2020-05-07</th>\n",
              "      <td>7.16700</td>\n",
              "      <td>7.07586</td>\n",
              "      <td>7.09350</td>\n",
              "      <td>7.08830</td>\n",
              "      <td>0.0</td>\n",
              "      <td>7.08830</td>\n",
              "    </tr>\n",
              "    <tr>\n",
              "      <th>2020-05-10</th>\n",
              "      <td>7.10340</td>\n",
              "      <td>7.05954</td>\n",
              "      <td>7.08320</td>\n",
              "      <td>7.09400</td>\n",
              "      <td>0.0</td>\n",
              "      <td>7.09400</td>\n",
              "    </tr>\n",
              "    <tr>\n",
              "      <th>2020-05-11</th>\n",
              "      <td>7.06720</td>\n",
              "      <td>6.97612</td>\n",
              "      <td>7.05980</td>\n",
              "      <td>7.06340</td>\n",
              "      <td>0.0</td>\n",
              "      <td>7.06340</td>\n",
              "    </tr>\n",
              "    <tr>\n",
              "      <th>2020-05-12</th>\n",
              "      <td>6.99600</td>\n",
              "      <td>6.96960</td>\n",
              "      <td>6.99520</td>\n",
              "      <td>6.99205</td>\n",
              "      <td>0.0</td>\n",
              "      <td>6.99205</td>\n",
              "    </tr>\n",
              "  </tbody>\n",
              "</table>\n",
              "<p>3993 rows × 6 columns</p>\n",
              "</div>"
            ],
            "text/plain": [
              "               High      Low     Open    Close  Volume  Adj Close\n",
              "Date                                                             \n",
              "2005-01-03  1.34550  1.33680  1.34550  1.34400     0.0    1.34400\n",
              "2005-01-04  1.35100  1.33680  1.33680  1.35100     0.0    1.35100\n",
              "2005-01-05  1.38650  1.35450  1.35450  1.37400     0.0    1.37400\n",
              "2005-01-06  1.40580  1.37800  1.37800  1.39250     0.0    1.39250\n",
              "2005-01-07  1.39400  1.36150  1.38700  1.39400     0.0    1.39400\n",
              "...             ...      ...      ...      ...     ...        ...\n",
              "2020-05-06  7.26682  7.07557  7.19672  7.19708     0.0    7.19708\n",
              "2020-05-07  7.16700  7.07586  7.09350  7.08830     0.0    7.08830\n",
              "2020-05-10  7.10340  7.05954  7.08320  7.09400     0.0    7.09400\n",
              "2020-05-11  7.06720  6.97612  7.05980  7.06340     0.0    7.06340\n",
              "2020-05-12  6.99600  6.96960  6.99520  6.99205     0.0    6.99205\n",
              "\n",
              "[3993 rows x 6 columns]"
            ]
          },
          "metadata": {
            "tags": []
          },
          "execution_count": 81
        }
      ]
    },
    {
      "cell_type": "code",
      "metadata": {
        "id": "hCVzysNGsl70",
        "colab_type": "code",
        "colab": {
          "base_uri": "https://localhost:8080/",
          "height": 35
        },
        "outputId": "a55a1ff6-9475-40b5-fe66-4a8295a7409e"
      },
      "source": [
        "#Get the number of rows and columns in the dataset\n",
        "df.shape"
      ],
      "execution_count": 82,
      "outputs": [
        {
          "output_type": "execute_result",
          "data": {
            "text/plain": [
              "(3993, 6)"
            ]
          },
          "metadata": {
            "tags": []
          },
          "execution_count": 82
        }
      ]
    },
    {
      "cell_type": "code",
      "metadata": {
        "id": "2p28mhsTuD8D",
        "colab_type": "code",
        "colab": {
          "base_uri": "https://localhost:8080/",
          "height": 558
        },
        "outputId": "6707648e-7649-4c89-804f-8482d82267e0"
      },
      "source": [
        "#Visualize the closing price history\n",
        "plt.figure(figsize=(16,8))\n",
        "plt.title('Close Price History')\n",
        "plt.plot(df['Close'])\n",
        "plt.xlabel('Date', fontsize=18)\n",
        "plt.ylabel('Close Price', fontsize=18)\n",
        "plt.show()"
      ],
      "execution_count": 83,
      "outputs": [
        {
          "output_type": "display_data",
          "data": {
            "image/png": "[encoded data removed]",
            "text/plain": [
              "<Figure size 1152x576 with 1 Axes>"
            ]
          },
          "metadata": {
            "tags": []
          }
        }
      ]
    },
    {
      "cell_type": "code",
      "metadata": {
        "id": "JjouOZCxuSLi",
        "colab_type": "code",
        "colab": {
          "base_uri": "https://localhost:8080/",
          "height": 35
        },
        "outputId": "6d65a218-7331-4dbf-a764-91acc5bb6e4d"
      },
      "source": [
        "#Create a new dataframe with only the Close column\n",
        "data = df.filter(['Close'])\n",
        "#Convert the dataframe to a numpy array\n",
        "dataset = data.values\n",
        "#Get the number of rows to train the model on\n",
        "training_data_len = math.ceil(len(dataset)*.8)\n",
        "\n",
        "training_data_len"
      ],
      "execution_count": 84,
      "outputs": [
        {
          "output_type": "execute_result",
          "data": {
            "text/plain": [
              "3195"
            ]
          },
          "metadata": {
            "tags": []
          },
          "execution_count": 84
        }
      ]
    },
    {
      "cell_type": "code",
      "metadata": {
        "id": "LPIa98SNwLnR",
        "colab_type": "code",
        "colab": {
          "base_uri": "https://localhost:8080/",
          "height": 144
        },
        "outputId": "41cb223f-accc-4b93-81c5-790624b9c4a1"
      },
      "source": [
        "#Scale the data\n",
        "scaler = MinMaxScaler(feature_range=(0,1))\n",
        "scaled_data = scaler.fit_transform(dataset)\n",
        "\n",
        "scaled_data"
      ],
      "execution_count": 85,
      "outputs": [
        {
          "output_type": "execute_result",
          "data": {
            "text/plain": [
              "array([[0.03331252],\n",
              "       [0.03446862],\n",
              "       [0.03826728],\n",
              "       ...,\n",
              "       [0.98297539],\n",
              "       [0.97792152],\n",
              "       [0.9661375 ]])"
            ]
          },
          "metadata": {
            "tags": []
          },
          "execution_count": 85
        }
      ]
    },
    {
      "cell_type": "code",
      "metadata": {
        "id": "CSuuVLVuw9gM",
        "colab_type": "code",
        "colab": {
          "base_uri": "https://localhost:8080/",
          "height": 726
        },
        "outputId": "c89ad62d-f1c2-4f40-d501-1d7c46ac3cd6"
      },
      "source": [
        "#Create the training dataset\n",
        "#Create the scaled train dataset\n",
        "train_data = scaled_data[0:training_data_len, :]\n",
        "#Split the data into x_train and y_train datasets\n",
        "x_train = []\n",
        "y_train = []\n",
        "\n",
        "for i in range(60, len(train_data)):\n",
        "  x_train.append(train_data[i-60:i, 0])\n",
        "  y_train.append(train_data[i, 0])\n",
        "  if i <=61:\n",
        "    print(x_train)\n",
        "    print(y_train)\n",
        "    print()"
      ],
      "execution_count": 86,
      "outputs": [
        {
          "output_type": "stream",
          "text": [
            "[array([0.03331252, 0.03446862, 0.03826728, 0.04132273, 0.04157047,\n",
            "       0.04124014, 0.03843244, 0.03554216, 0.03446862, 0.03389057,\n",
            "       0.0318261 , 0.03265189, 0.03306478, 0.03430348, 0.03347768,\n",
            "       0.0318261 , 0.03141319, 0.02934872, 0.0318261 , 0.03199125,\n",
            "       0.03133062, 0.0273668 , 0.03017451, 0.03000935, 0.02769711,\n",
            "       0.02918355, 0.03083514, 0.03116545, 0.03100031, 0.02893581,\n",
            "       0.02761454, 0.02786228, 0.02852293, 0.0266236 , 0.02720165,\n",
            "       0.02588038, 0.02505459, 0.02621069, 0.02588038, 0.02464168,\n",
            "       0.02241204, 0.02257721, 0.02274236, 0.02274236, 0.01828308,\n",
            "       0.01886113, 0.01811791, 0.01886113, 0.02183399, 0.01968692,\n",
            "       0.02406363, 0.02637586, 0.02844033, 0.02868807, 0.02852293,\n",
            "       0.0318261 , 0.03389057, 0.03562475, 0.03653312, 0.03446862])]\n",
            "[0.03892792246180868]\n",
            "\n",
            "[array([0.03331252, 0.03446862, 0.03826728, 0.04132273, 0.04157047,\n",
            "       0.04124014, 0.03843244, 0.03554216, 0.03446862, 0.03389057,\n",
            "       0.0318261 , 0.03265189, 0.03306478, 0.03430348, 0.03347768,\n",
            "       0.0318261 , 0.03141319, 0.02934872, 0.0318261 , 0.03199125,\n",
            "       0.03133062, 0.0273668 , 0.03017451, 0.03000935, 0.02769711,\n",
            "       0.02918355, 0.03083514, 0.03116545, 0.03100031, 0.02893581,\n",
            "       0.02761454, 0.02786228, 0.02852293, 0.0266236 , 0.02720165,\n",
            "       0.02588038, 0.02505459, 0.02621069, 0.02588038, 0.02464168,\n",
            "       0.02241204, 0.02257721, 0.02274236, 0.02274236, 0.01828308,\n",
            "       0.01886113, 0.01811791, 0.01886113, 0.02183399, 0.01968692,\n",
            "       0.02406363, 0.02637586, 0.02844033, 0.02868807, 0.02852293,\n",
            "       0.0318261 , 0.03389057, 0.03562475, 0.03653312, 0.03446862]), array([0.03446862, 0.03826728, 0.04132273, 0.04157047, 0.04124014,\n",
            "       0.03843244, 0.03554216, 0.03446862, 0.03389057, 0.0318261 ,\n",
            "       0.03265189, 0.03306478, 0.03430348, 0.03347768, 0.0318261 ,\n",
            "       0.03141319, 0.02934872, 0.0318261 , 0.03199125, 0.03133062,\n",
            "       0.0273668 , 0.03017451, 0.03000935, 0.02769711, 0.02918355,\n",
            "       0.03083514, 0.03116545, 0.03100031, 0.02893581, 0.02761454,\n",
            "       0.02786228, 0.02852293, 0.0266236 , 0.02720165, 0.02588038,\n",
            "       0.02505459, 0.02621069, 0.02588038, 0.02464168, 0.02241204,\n",
            "       0.02257721, 0.02274236, 0.02274236, 0.01828308, 0.01886113,\n",
            "       0.01811791, 0.01886113, 0.02183399, 0.01968692, 0.02406363,\n",
            "       0.02637586, 0.02844033, 0.02868807, 0.02852293, 0.0318261 ,\n",
            "       0.03389057, 0.03562475, 0.03653312, 0.03446862, 0.03892792])]\n",
            "[0.03892792246180868, 0.04057950852369496]\n",
            "\n"
          ],
          "name": "stdout"
        }
      ]
    },
    {
      "cell_type": "code",
      "metadata": {
        "id": "fQbHn_XMyF0u",
        "colab_type": "code",
        "colab": {}
      },
      "source": [
        "#Convert the x_train and y_train to numpy array\n",
        "x_train, y_train = np.array(x_train), np.array(y_train)"
      ],
      "execution_count": 0,
      "outputs": []
    },
    {
      "cell_type": "code",
      "metadata": {
        "id": "GdupG0pozSo-",
        "colab_type": "code",
        "colab": {
          "base_uri": "https://localhost:8080/",
          "height": 35
        },
        "outputId": "f02b4a37-c2b8-4720-980d-f86bb8ee313f"
      },
      "source": [
        "# Reshape the data\n",
        "x_train = np.reshape(x_train, (x_train.shape[0],x_train.shape[1],1))\n",
        "x_train.shape"
      ],
      "execution_count": 88,
      "outputs": [
        {
          "output_type": "execute_result",
          "data": {
            "text/plain": [
              "(3135, 60, 1)"
            ]
          },
          "metadata": {
            "tags": []
          },
          "execution_count": 88
        }
      ]
    },
    {
      "cell_type": "code",
      "metadata": {
        "id": "buIIABtPzwRt",
        "colab_type": "code",
        "colab": {}
      },
      "source": [
        "#Built the LSTM model\n",
        "model = Sequential()\n",
        "model.add(LSTM(50, return_sequences=True, input_shape =(x_train.shape[1],1)))\n",
        "model.add(LSTM(50, return_sequences=False))\n",
        "model.add(Dense(25))\n",
        "model.add(Dense(1))"
      ],
      "execution_count": 0,
      "outputs": []
    },
    {
      "cell_type": "code",
      "metadata": {
        "id": "GngdFNQJ0hdI",
        "colab_type": "code",
        "colab": {}
      },
      "source": [
        "#Compile the module\n",
        "model.compile(optimizer='adam', loss='mean_squared_error')"
      ],
      "execution_count": 0,
      "outputs": []
    },
    {
      "cell_type": "code",
      "metadata": {
        "id": "auRlGl5Q00J5",
        "colab_type": "code",
        "colab": {
          "base_uri": "https://localhost:8080/",
          "height": 72
        },
        "outputId": "3a571de3-5f4c-446e-8063-34295f8b5199"
      },
      "source": [
        "#Train the model\n",
        "model.fit(x_train, y_train, batch_size=1, epochs=1)"
      ],
      "execution_count": 92,
      "outputs": [
        {
          "output_type": "stream",
          "text": [
            "Epoch 1/1\n",
            "3135/3135 [==============================] - 116s 37ms/step - loss: 1.8312e-04\n"
          ],
          "name": "stdout"
        },
        {
          "output_type": "execute_result",
          "data": {
            "text/plain": [
              "<keras.callbacks.callbacks.History at 0x7f93d1f6dd30>"
            ]
          },
          "metadata": {
            "tags": []
          },
          "execution_count": 92
        }
      ]
    },
    {
      "cell_type": "code",
      "metadata": {
        "id": "ZQwCMEjb1IEP",
        "colab_type": "code",
        "colab": {}
      },
      "source": [
        "#Create the testing dataset\n",
        "#Create a new array containing scaled vlaues from index 2099 to 2698\n",
        "test_data = scaled_data[training_data_len - 60:,:]\n",
        "#Create the datasets x_test and y_test\n",
        "x_test = []\n",
        "y_test = dataset[training_data_len:,:] #actual test values\n",
        "for i in range(60, len(test_data)):\n",
        "  x_test.append(test_data[i-60:i, 0])\n"
      ],
      "execution_count": 0,
      "outputs": []
    },
    {
      "cell_type": "code",
      "metadata": {
        "id": "rmzyuaSO3YKg",
        "colab_type": "code",
        "colab": {}
      },
      "source": [
        "#Convert the data to a numpy array\n",
        "x_test = np.array(x_test)"
      ],
      "execution_count": 0,
      "outputs": []
    },
    {
      "cell_type": "code",
      "metadata": {
        "id": "xGJ8Ktui35BW",
        "colab_type": "code",
        "colab": {}
      },
      "source": [
        "#Reshape the data\n",
        "x_test = np.reshape(x_test, (x_test.shape[0], x_test.shape[1], 1))"
      ],
      "execution_count": 0,
      "outputs": []
    },
    {
      "cell_type": "code",
      "metadata": {
        "id": "7y0WDbQE5C4x",
        "colab_type": "code",
        "colab": {}
      },
      "source": [
        "#Get the models predicted price values\n",
        "predictions = model.predict(x_test)\n",
        "predictions = scaler.inverse_transform(predictions)"
      ],
      "execution_count": 0,
      "outputs": []
    },
    {
      "cell_type": "code",
      "metadata": {
        "id": "V21qk_-T5bZS",
        "colab_type": "code",
        "colab": {
          "base_uri": "https://localhost:8080/",
          "height": 35
        },
        "outputId": "f07a69ba-747d-4ea0-ed51-e987cd7e38cf"
      },
      "source": [
        "#Get the root mean squared error (RMSE)\n",
        "rmse = np.sqrt(np.mean(predictions - y_test)**2)\n",
        "rmse "
      ],
      "execution_count": 97,
      "outputs": [
        {
          "output_type": "execute_result",
          "data": {
            "text/plain": [
              "0.004617379422773395"
            ]
          },
          "metadata": {
            "tags": []
          },
          "execution_count": 97
        }
      ]
    },
    {
      "cell_type": "code",
      "metadata": {
        "id": "3XoG2aj15ySS",
        "colab_type": "code",
        "colab": {
          "base_uri": "https://localhost:8080/",
          "height": 667
        },
        "outputId": "da89ff72-0f31-4931-83cb-19ad23515ecf"
      },
      "source": [
        "#Plot the data\n",
        "train = data[:training_data_len]\n",
        "valid = data[training_data_len:]\n",
        "valid['Predictions'] = predictions\n",
        "#Visualize the data\n",
        "plt.figure(figsize=(16,8))\n",
        "plt.title('Model')\n",
        "plt.xlabel('Date', fontsize=18)\n",
        "plt.ylabel('Close Price', fontsize=18)\n",
        "plt.plot(train['Close'])\n",
        "plt.plot(valid[['Close', 'Predictions']])\n",
        "plt.legend(['Train', 'Val', 'Predictions'], loc='lower right')\n",
        "plt.show()\n"
      ],
      "execution_count": 98,
      "outputs": [
        {
          "output_type": "stream",
          "text": [
            "/usr/local/lib/python3.6/dist-packages/ipykernel_launcher.py:4: SettingWithCopyWarning: \n",
            "A value is trying to be set on a copy of a slice from a DataFrame.\n",
            "Try using .loc[row_indexer,col_indexer] = value instead\n",
            "\n",
            "See the caveats in the documentation: https://pandas.pydata.org/pandas-docs/stable/user_guide/indexing.html#returning-a-view-versus-a-copy\n",
            "  after removing the cwd from sys.path.\n"
          ],
          "name": "stderr"
        },
        {
          "output_type": "display_data",
          "data": {
            "image/png": "[encoded data removed]",
            "text/plain": [
              "<Figure size 1152x576 with 1 Axes>"
            ]
          },
          "metadata": {
            "tags": []
          }
        }
      ]
    },
    {
      "cell_type": "code",
      "metadata": {
        "id": "-HEfihS47Npx",
        "colab_type": "code",
        "colab": {}
      },
      "source": [
        "#Blue : Trained data\n",
        "#Red : Actual graph\n",
        "#Yellow: Prediction"
      ],
      "execution_count": 0,
      "outputs": []
    },
    {
      "cell_type": "code",
      "metadata": {
        "id": "dKHG1YhU709Q",
        "colab_type": "code",
        "colab": {
          "base_uri": "https://localhost:8080/",
          "height": 455
        },
        "outputId": "82518097-ec2c-4ffc-fc10-a9fd58ccf94d"
      },
      "source": [
        "#Show the valid and predicted prices\n",
        "valid"
      ],
      "execution_count": 105,
      "outputs": [
        {
          "output_type": "execute_result",
          "data": {
            "text/html": [
              "<div>\n",
              "<style scoped>\n",
              "    .dataframe tbody tr th:only-of-type {\n",
              "        vertical-align: middle;\n",
              "    }\n",
              "\n",
              "    .dataframe tbody tr th {\n",
              "        vertical-align: top;\n",
              "    }\n",
              "\n",
              "    .dataframe thead th {\n",
              "        text-align: right;\n",
              "    }\n",
              "</style>\n",
              "<table border=\"1\" class=\"dataframe\">\n",
              "  <thead>\n",
              "    <tr style=\"text-align: right;\">\n",
              "      <th></th>\n",
              "      <th>Close</th>\n",
              "      <th>Predictions</th>\n",
              "    </tr>\n",
              "    <tr>\n",
              "      <th>Date</th>\n",
              "      <th></th>\n",
              "      <th></th>\n",
              "    </tr>\n",
              "  </thead>\n",
              "  <tbody>\n",
              "    <tr>\n",
              "      <th>2017-04-18</th>\n",
              "      <td>3.65541</td>\n",
              "      <td>3.666157</td>\n",
              "    </tr>\n",
              "    <tr>\n",
              "      <th>2017-04-19</th>\n",
              "      <td>3.67185</td>\n",
              "      <td>3.662794</td>\n",
              "    </tr>\n",
              "    <tr>\n",
              "      <th>2017-04-20</th>\n",
              "      <td>3.64080</td>\n",
              "      <td>3.661044</td>\n",
              "    </tr>\n",
              "    <tr>\n",
              "      <th>2017-04-23</th>\n",
              "      <td>3.61270</td>\n",
              "      <td>3.656264</td>\n",
              "    </tr>\n",
              "    <tr>\n",
              "      <th>2017-04-24</th>\n",
              "      <td>3.57515</td>\n",
              "      <td>3.647311</td>\n",
              "    </tr>\n",
              "    <tr>\n",
              "      <th>...</th>\n",
              "      <td>...</td>\n",
              "      <td>...</td>\n",
              "    </tr>\n",
              "    <tr>\n",
              "      <th>2020-05-06</th>\n",
              "      <td>7.19708</td>\n",
              "      <td>7.007198</td>\n",
              "    </tr>\n",
              "    <tr>\n",
              "      <th>2020-05-07</th>\n",
              "      <td>7.08830</td>\n",
              "      <td>7.037749</td>\n",
              "    </tr>\n",
              "    <tr>\n",
              "      <th>2020-05-10</th>\n",
              "      <td>7.09400</td>\n",
              "      <td>7.055644</td>\n",
              "    </tr>\n",
              "    <tr>\n",
              "      <th>2020-05-11</th>\n",
              "      <td>7.06340</td>\n",
              "      <td>7.068045</td>\n",
              "    </tr>\n",
              "    <tr>\n",
              "      <th>2020-05-12</th>\n",
              "      <td>6.99205</td>\n",
              "      <td>7.072571</td>\n",
              "    </tr>\n",
              "  </tbody>\n",
              "</table>\n",
              "<p>798 rows × 2 columns</p>\n",
              "</div>"
            ],
            "text/plain": [
              "              Close  Predictions\n",
              "Date                            \n",
              "2017-04-18  3.65541     3.666157\n",
              "2017-04-19  3.67185     3.662794\n",
              "2017-04-20  3.64080     3.661044\n",
              "2017-04-23  3.61270     3.656264\n",
              "2017-04-24  3.57515     3.647311\n",
              "...             ...          ...\n",
              "2020-05-06  7.19708     7.007198\n",
              "2020-05-07  7.08830     7.037749\n",
              "2020-05-10  7.09400     7.055644\n",
              "2020-05-11  7.06340     7.068045\n",
              "2020-05-12  6.99205     7.072571\n",
              "\n",
              "[798 rows x 2 columns]"
            ]
          },
          "metadata": {
            "tags": []
          },
          "execution_count": 105
        }
      ]
    },
    {
      "cell_type": "code",
      "metadata": {
        "id": "aC-1CA7o76Rd",
        "colab_type": "code",
        "colab": {
          "base_uri": "https://localhost:8080/",
          "height": 35
        },
        "outputId": "8c3bb4fd-16ce-4327-9902-3a25848cb331"
      },
      "source": [
        "#Get the quote\n",
        "usd_quote = web.DataReader('USDTRY=X', data_source='yahoo', start='2010-01-01', end='2020-05-14')\n",
        "#Create a new dataframe\n",
        "new_df = usd_quote.filter(['Close'])\n",
        "#Get the last 60 day closing price values and convert the dataframe to an array\n",
        "last_60_days = new_df[-60:].values\n",
        "#Scale the data to be values between 0 and 1\n",
        "last_60_days_scaled = scaler.transform(last_60_days)\n",
        "#Create an empty list\n",
        "X_test = []\n",
        "#Append the pas t60 days\n",
        "X_test.append(last_60_days_scaled)\n",
        "#Convert the X_test dataset to a numpy array\n",
        "X_test = np.array(X_test)\n",
        "#Reshape the data as 3D\n",
        "X_test = np.reshape(X_test, (X_test.shape[0], X_test.shape[1], 1))\n",
        "#Get the predicted scaled price\n",
        "pred_price = model.predict(X_test)\n",
        "#Undo the scaling\n",
        "pred_price = scaler.inverse_transform(pred_price)\n",
        "print(pred_price)"
      ],
      "execution_count": 108,
      "outputs": [
        {
          "output_type": "stream",
          "text": [
            "[[7.064663]]\n"
          ],
          "name": "stdout"
        }
      ]
    },
    {
      "cell_type": "code",
      "metadata": {
        "id": "BeKCayQx-ARg",
        "colab_type": "code",
        "colab": {}
      },
      "source": [
        "#Today is 2020-05-13 and that's prediction for 2020-05-14"
      ],
      "execution_count": 0,
      "outputs": []
    },
    {
      "cell_type": "code",
      "metadata": {
        "id": "zx2XLB6CD6b-",
        "colab_type": "code",
        "colab": {}
      },
      "source": [
        ""
      ],
      "execution_count": 0,
      "outputs": []
    }
  ]
}