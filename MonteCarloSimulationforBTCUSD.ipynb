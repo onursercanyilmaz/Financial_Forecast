{
  "nbformat": 4,
  "nbformat_minor": 0,
  "metadata": {
    "colab": {
      "name": "MonteCarloSimulationforBTCUSD.ipynb",
      "provenance": [],
      "collapsed_sections": []
    },
    "kernelspec": {
      "name": "python3",
      "display_name": "Python 3"
    }
  },
  "cells": [
    {
      "cell_type": "code",
      "metadata": {
        "id": "MX4pRIFJ2O4O",
        "colab_type": "code",
        "colab": {
          "base_uri": "https://localhost:8080/",
          "height": 74
        },
        "outputId": "d9295497-97db-4d97-c460-f9f28227f96e"
      },
      "source": [
        "import numpy as np\n",
        "import pandas as pd\n",
        "from pandas_datareader import data as wb\n",
        "import matplotlib.pyplot as plt\n",
        "from scipy.stats import norm\n",
        "%matplotlib inline"
      ],
      "execution_count": 1,
      "outputs": [
        {
          "output_type": "stream",
          "text": [
            "/usr/local/lib/python3.6/dist-packages/pandas_datareader/compat/__init__.py:7: FutureWarning: pandas.util.testing is deprecated. Use the functions in the public API at pandas.testing instead.\n",
            "  from pandas.util.testing import assert_frame_equal\n"
          ],
          "name": "stderr"
        }
      ]
    },
    {
      "cell_type": "code",
      "metadata": {
        "id": "6yO6OcyT3yzz",
        "colab_type": "code",
        "colab": {}
      },
      "source": [
        "ticker = 'BTC-USD'\n",
        "data = pd.DataFrame()\n",
        "data[ticker] = wb.DataReader(ticker, data_source='yahoo', start='2010-1-1')['Adj Close']"
      ],
      "execution_count": 2,
      "outputs": []
    },
    {
      "cell_type": "code",
      "metadata": {
        "id": "yX3iuP-E48Rv",
        "colab_type": "code",
        "colab": {}
      },
      "source": [
        "log_returns= np.log(1 + data.pct_change())"
      ],
      "execution_count": 3,
      "outputs": []
    },
    {
      "cell_type": "code",
      "metadata": {
        "id": "C1I8IDor5Ht3",
        "colab_type": "code",
        "colab": {
          "base_uri": "https://localhost:8080/",
          "height": 237
        },
        "outputId": "1d367193-08d5-4285-b403-63f321b58a2d"
      },
      "source": [
        "log_returns.tail()"
      ],
      "execution_count": 4,
      "outputs": [
        {
          "output_type": "execute_result",
          "data": {
            "text/html": [
              "<div>\n",
              "<style scoped>\n",
              "    .dataframe tbody tr th:only-of-type {\n",
              "        vertical-align: middle;\n",
              "    }\n",
              "\n",
              "    .dataframe tbody tr th {\n",
              "        vertical-align: top;\n",
              "    }\n",
              "\n",
              "    .dataframe thead th {\n",
              "        text-align: right;\n",
              "    }\n",
              "</style>\n",
              "<table border=\"1\" class=\"dataframe\">\n",
              "  <thead>\n",
              "    <tr style=\"text-align: right;\">\n",
              "      <th></th>\n",
              "      <th>BTC-USD</th>\n",
              "    </tr>\n",
              "    <tr>\n",
              "      <th>Date</th>\n",
              "      <th></th>\n",
              "    </tr>\n",
              "  </thead>\n",
              "  <tbody>\n",
              "    <tr>\n",
              "      <th>2020-06-21</th>\n",
              "      <td>0.036420</td>\n",
              "    </tr>\n",
              "    <tr>\n",
              "      <th>2020-06-22</th>\n",
              "      <td>-0.001977</td>\n",
              "    </tr>\n",
              "    <tr>\n",
              "      <th>2020-06-23</th>\n",
              "      <td>-0.033371</td>\n",
              "    </tr>\n",
              "    <tr>\n",
              "      <th>2020-06-24</th>\n",
              "      <td>-0.005253</td>\n",
              "    </tr>\n",
              "    <tr>\n",
              "      <th>2020-06-26</th>\n",
              "      <td>-0.007830</td>\n",
              "    </tr>\n",
              "  </tbody>\n",
              "</table>\n",
              "</div>"
            ],
            "text/plain": [
              "             BTC-USD\n",
              "Date                \n",
              "2020-06-21  0.036420\n",
              "2020-06-22 -0.001977\n",
              "2020-06-23 -0.033371\n",
              "2020-06-24 -0.005253\n",
              "2020-06-26 -0.007830"
            ]
          },
          "metadata": {
            "tags": []
          },
          "execution_count": 4
        }
      ]
    },
    {
      "cell_type": "code",
      "metadata": {
        "id": "EWEecaa45KF-",
        "colab_type": "code",
        "colab": {
          "base_uri": "https://localhost:8080/",
          "height": 367
        },
        "outputId": "e774962d-c3fd-4a12-db7a-3929d27f3988"
      },
      "source": [
        "data.plot(figsize=(10,6));"
      ],
      "execution_count": 5,
      "outputs": [
        {
          "output_type": "display_data",
          "data": {
            "image/png": "[encoded data removed]",
            "text/plain": [
              "<Figure size 720x432 with 1 Axes>"
            ]
          },
          "metadata": {
            "tags": [],
            "needs_background": "light"
          }
        }
      ]
    },
    {
      "cell_type": "code",
      "metadata": {
        "id": "zGi37otP5Q7T",
        "colab_type": "code",
        "colab": {
          "base_uri": "https://localhost:8080/",
          "height": 367
        },
        "outputId": "fb17e5e4-9ec7-4e3c-a656-c087d09358dc"
      },
      "source": [
        "log_returns.plot(figsize=(10,6))\n",
        "plt.show()"
      ],
      "execution_count": 6,
      "outputs": [
        {
          "output_type": "display_data",
          "data": {
            "image/png": "[encoded data removed]",
            "text/plain": [
              "<Figure size 720x432 with 1 Axes>"
            ]
          },
          "metadata": {
            "tags": [],
            "needs_background": "light"
          }
        }
      ]
    },
    {
      "cell_type": "code",
      "metadata": {
        "id": "nO9coYMq5YMn",
        "colab_type": "code",
        "colab": {
          "base_uri": "https://localhost:8080/",
          "height": 54
        },
        "outputId": "a393a006-32b6-4389-babe-87a7a73b8f4e"
      },
      "source": [
        "u = log_returns.mean()\n",
        "u"
      ],
      "execution_count": 7,
      "outputs": [
        {
          "output_type": "execute_result",
          "data": {
            "text/plain": [
              "BTC-USD    0.001423\n",
              "dtype: float64"
            ]
          },
          "metadata": {
            "tags": []
          },
          "execution_count": 7
        }
      ]
    },
    {
      "cell_type": "code",
      "metadata": {
        "id": "7tjtt1UZ5d11",
        "colab_type": "code",
        "colab": {
          "base_uri": "https://localhost:8080/",
          "height": 54
        },
        "outputId": "55122e42-0dd4-4d0a-a316-9e042202fe04"
      },
      "source": [
        "var = log_returns.var()\n",
        "var"
      ],
      "execution_count": 8,
      "outputs": [
        {
          "output_type": "execute_result",
          "data": {
            "text/plain": [
              "BTC-USD    0.001575\n",
              "dtype: float64"
            ]
          },
          "metadata": {
            "tags": []
          },
          "execution_count": 8
        }
      ]
    },
    {
      "cell_type": "code",
      "metadata": {
        "id": "uXjT4wl95klA",
        "colab_type": "code",
        "colab": {
          "base_uri": "https://localhost:8080/",
          "height": 54
        },
        "outputId": "0933da62-414e-46af-d664-6f32d5877cf4"
      },
      "source": [
        "drift = u- (0.5 * var)\n",
        "drift"
      ],
      "execution_count": 9,
      "outputs": [
        {
          "output_type": "execute_result",
          "data": {
            "text/plain": [
              "BTC-USD    0.000635\n",
              "dtype: float64"
            ]
          },
          "metadata": {
            "tags": []
          },
          "execution_count": 9
        }
      ]
    },
    {
      "cell_type": "code",
      "metadata": {
        "id": "DIGz7N4v5prU",
        "colab_type": "code",
        "colab": {
          "base_uri": "https://localhost:8080/",
          "height": 54
        },
        "outputId": "6d100741-c689-4ca8-b7c6-3ec06195420b"
      },
      "source": [
        "stdev = log_returns.std()\n",
        "stdev"
      ],
      "execution_count": 10,
      "outputs": [
        {
          "output_type": "execute_result",
          "data": {
            "text/plain": [
              "BTC-USD    0.039691\n",
              "dtype: float64"
            ]
          },
          "metadata": {
            "tags": []
          },
          "execution_count": 10
        }
      ]
    },
    {
      "cell_type": "markdown",
      "metadata": {
        "id": "lJg_3dGR6AbM",
        "colab_type": "text"
      },
      "source": [
        "2.nd part"
      ]
    },
    {
      "cell_type": "code",
      "metadata": {
        "id": "Sykrn73X5tlJ",
        "colab_type": "code",
        "colab": {
          "base_uri": "https://localhost:8080/",
          "height": 36
        },
        "outputId": "f198df42-51d2-4edd-9e72-6d27590c8bdf"
      },
      "source": [
        "type(drift)"
      ],
      "execution_count": 11,
      "outputs": [
        {
          "output_type": "execute_result",
          "data": {
            "text/plain": [
              "pandas.core.series.Series"
            ]
          },
          "metadata": {
            "tags": []
          },
          "execution_count": 11
        }
      ]
    },
    {
      "cell_type": "code",
      "metadata": {
        "id": "BsUciFNP5zwl",
        "colab_type": "code",
        "colab": {
          "base_uri": "https://localhost:8080/",
          "height": 36
        },
        "outputId": "bae32237-f7b1-4317-dd8e-978fd017497d"
      },
      "source": [
        "type(stdev)"
      ],
      "execution_count": 12,
      "outputs": [
        {
          "output_type": "execute_result",
          "data": {
            "text/plain": [
              "pandas.core.series.Series"
            ]
          },
          "metadata": {
            "tags": []
          },
          "execution_count": 12
        }
      ]
    },
    {
      "cell_type": "code",
      "metadata": {
        "id": "ybpAWD1b51SX",
        "colab_type": "code",
        "colab": {
          "base_uri": "https://localhost:8080/",
          "height": 36
        },
        "outputId": "6d7d764e-3774-4a9f-ba6f-d73160bc11ef"
      },
      "source": [
        "np.array(drift)"
      ],
      "execution_count": 13,
      "outputs": [
        {
          "output_type": "execute_result",
          "data": {
            "text/plain": [
              "array([0.00063512])"
            ]
          },
          "metadata": {
            "tags": []
          },
          "execution_count": 13
        }
      ]
    },
    {
      "cell_type": "code",
      "metadata": {
        "id": "ypMwDYla53SC",
        "colab_type": "code",
        "colab": {
          "base_uri": "https://localhost:8080/",
          "height": 36
        },
        "outputId": "0af8ad34-510f-45ee-a086-102e3167b8b0"
      },
      "source": [
        "drift.values"
      ],
      "execution_count": 14,
      "outputs": [
        {
          "output_type": "execute_result",
          "data": {
            "text/plain": [
              "array([0.00063512])"
            ]
          },
          "metadata": {
            "tags": []
          },
          "execution_count": 14
        }
      ]
    },
    {
      "cell_type": "code",
      "metadata": {
        "id": "JyIU7HNs550O",
        "colab_type": "code",
        "colab": {
          "base_uri": "https://localhost:8080/",
          "height": 36
        },
        "outputId": "663554d1-9154-4889-b914-621830fd74d9"
      },
      "source": [
        "stdev.values"
      ],
      "execution_count": 15,
      "outputs": [
        {
          "output_type": "execute_result",
          "data": {
            "text/plain": [
              "array([0.0396913])"
            ]
          },
          "metadata": {
            "tags": []
          },
          "execution_count": 15
        }
      ]
    },
    {
      "cell_type": "code",
      "metadata": {
        "id": "f-RkN-Lg57t4",
        "colab_type": "code",
        "colab": {
          "base_uri": "https://localhost:8080/",
          "height": 36
        },
        "outputId": "16b2d331-3f4e-4075-81c5-d7804ac8069d"
      },
      "source": [
        "norm.ppf(0.95)"
      ],
      "execution_count": 16,
      "outputs": [
        {
          "output_type": "execute_result",
          "data": {
            "text/plain": [
              "1.6448536269514722"
            ]
          },
          "metadata": {
            "tags": []
          },
          "execution_count": 16
        }
      ]
    },
    {
      "cell_type": "code",
      "metadata": {
        "id": "S6DFi1Ir6K22",
        "colab_type": "code",
        "colab": {
          "base_uri": "https://localhost:8080/",
          "height": 203
        },
        "outputId": "c355438f-bc97-4c42-aa5b-49fc64c60f32"
      },
      "source": [
        "x = np.random.rand(10,2)\n",
        "x"
      ],
      "execution_count": 17,
      "outputs": [
        {
          "output_type": "execute_result",
          "data": {
            "text/plain": [
              "array([[0.19829106, 0.60365415],\n",
              "       [0.41905395, 0.26059901],\n",
              "       [0.8328694 , 0.2875025 ],\n",
              "       [0.39032922, 0.11773609],\n",
              "       [0.89645471, 0.78512777],\n",
              "       [0.70023633, 0.17659571],\n",
              "       [0.52206447, 0.83935382],\n",
              "       [0.48972807, 0.37327435],\n",
              "       [0.61516753, 0.99404875],\n",
              "       [0.16112126, 0.6670989 ]])"
            ]
          },
          "metadata": {
            "tags": []
          },
          "execution_count": 17
        }
      ]
    },
    {
      "cell_type": "code",
      "metadata": {
        "id": "slbYfyc66Oeb",
        "colab_type": "code",
        "colab": {
          "base_uri": "https://localhost:8080/",
          "height": 203
        },
        "outputId": "1866c791-1034-4db0-c27a-ba422b5f68a7"
      },
      "source": [
        "norm.ppf(x)"
      ],
      "execution_count": 18,
      "outputs": [
        {
          "output_type": "execute_result",
          "data": {
            "text/plain": [
              "array([[-0.84774119,  0.2628169 ],\n",
              "       [-0.2043143 , -0.64149978],\n",
              "       [ 0.96556641, -0.5606957 ],\n",
              "       [-0.27846108, -1.18638023],\n",
              "       [ 1.26160603,  0.78962903],\n",
              "       [ 0.52508035, -0.92841676],\n",
              "       [ 0.05533565,  0.99180562],\n",
              "       [-0.02575076, -0.32319351],\n",
              "       [ 0.2928132 ,  2.51502165],\n",
              "       [-0.98986005,  0.43191637]])"
            ]
          },
          "metadata": {
            "tags": []
          },
          "execution_count": 18
        }
      ]
    },
    {
      "cell_type": "code",
      "metadata": {
        "id": "izV-BKzi6P6X",
        "colab_type": "code",
        "colab": {
          "base_uri": "https://localhost:8080/",
          "height": 203
        },
        "outputId": "5905e35e-8421-4671-e45a-66ed17908c9d"
      },
      "source": [
        "Z = norm.ppf(np.random.rand(10,2))\n",
        "Z"
      ],
      "execution_count": 19,
      "outputs": [
        {
          "output_type": "execute_result",
          "data": {
            "text/plain": [
              "array([[-1.15916256,  0.03836605],\n",
              "       [ 0.72943561, -0.59084658],\n",
              "       [ 0.17101788, -2.02143208],\n",
              "       [-0.72311758, -0.8504695 ],\n",
              "       [ 0.6660145 ,  0.35650295],\n",
              "       [-0.48135922, -2.09164559],\n",
              "       [ 1.06940824, -0.95678631],\n",
              "       [-0.9123685 , -2.92089512],\n",
              "       [ 1.20855455,  0.05546273],\n",
              "       [ 1.43709847,  0.67487371]])"
            ]
          },
          "metadata": {
            "tags": []
          },
          "execution_count": 19
        }
      ]
    },
    {
      "cell_type": "code",
      "metadata": {
        "id": "aF2f0D6y6Wsc",
        "colab_type": "code",
        "colab": {}
      },
      "source": [
        "t_intervals = 60\n",
        "iterations = 5"
      ],
      "execution_count": 20,
      "outputs": []
    },
    {
      "cell_type": "code",
      "metadata": {
        "id": "B9tMHud26dE4",
        "colab_type": "code",
        "colab": {}
      },
      "source": [
        "daily_returns = np.exp(drift.values + stdev.values*norm.ppf(np.random.rand(t_intervals, iterations)))"
      ],
      "execution_count": 21,
      "outputs": []
    },
    {
      "cell_type": "code",
      "metadata": {
        "id": "mNvc_aBW6qwU",
        "colab_type": "code",
        "colab": {
          "base_uri": "https://localhost:8080/",
          "height": 1000
        },
        "outputId": "f24853c4-e027-4141-f0d0-02cace865b2e"
      },
      "source": [
        "daily_returns"
      ],
      "execution_count": 22,
      "outputs": [
        {
          "output_type": "execute_result",
          "data": {
            "text/plain": [
              "array([[0.98079334, 0.99724864, 0.98576062, 1.01964789, 1.01085408],\n",
              "       [1.01644021, 0.99771479, 1.01095996, 0.9847115 , 1.01280473],\n",
              "       [1.05811278, 1.00492578, 0.9708435 , 0.92797758, 0.96448747],\n",
              "       [0.95399484, 1.01557877, 0.9797948 , 1.01288338, 1.00946804],\n",
              "       [0.98314996, 1.04373448, 1.04850535, 0.97821735, 0.99566738],\n",
              "       [0.99117281, 1.05998649, 0.9599404 , 0.92627469, 1.01457403],\n",
              "       [1.03624648, 0.95681957, 1.01767112, 1.00585544, 1.01408178],\n",
              "       [1.03849839, 0.9657614 , 1.08741491, 1.04536814, 1.03032553],\n",
              "       [0.95012558, 0.97298028, 0.98147811, 1.02639745, 0.99730915],\n",
              "       [1.02055248, 1.00524529, 1.02972984, 1.01881525, 1.05614825],\n",
              "       [0.89847397, 1.03576774, 0.95285051, 0.99546612, 1.03837789],\n",
              "       [0.99046249, 0.99900949, 0.99587886, 0.8963139 , 1.00319614],\n",
              "       [0.98094668, 1.01105619, 0.97670987, 0.96575164, 0.98185492],\n",
              "       [0.94075723, 0.96379049, 1.05326082, 0.96716565, 0.92586413],\n",
              "       [1.01548542, 0.97531297, 0.97871967, 0.98791473, 1.01387178],\n",
              "       [0.96744871, 1.03378575, 1.03125357, 0.98059964, 0.95123382],\n",
              "       [1.00987843, 1.02816424, 1.01204027, 0.9789385 , 1.03058847],\n",
              "       [1.07611668, 0.94379506, 1.01732941, 1.02965231, 1.02441467],\n",
              "       [0.93425033, 1.00671138, 1.00308011, 1.01103948, 0.98886159],\n",
              "       [1.03908936, 0.95819981, 0.90941482, 0.99963617, 0.98302482],\n",
              "       [0.96141459, 0.97418525, 0.98284099, 1.02285603, 1.00985344],\n",
              "       [0.96979012, 1.06535725, 0.96317714, 0.99695919, 1.01762634],\n",
              "       [0.98065697, 1.02625482, 1.03850404, 1.04861094, 0.9947    ],\n",
              "       [1.04055358, 0.93523694, 1.04373968, 1.01448375, 0.95486426],\n",
              "       [1.04282558, 0.98454377, 0.96207882, 1.046901  , 0.99041086],\n",
              "       [1.02930679, 0.99036485, 0.99655404, 0.97393343, 1.02241936],\n",
              "       [0.99056752, 1.00609158, 0.98600852, 0.96580202, 1.04430247],\n",
              "       [1.0007199 , 0.95665883, 1.00291891, 1.03368234, 0.98617154],\n",
              "       [0.9932185 , 0.99878908, 1.0252551 , 1.10262144, 1.05815977],\n",
              "       [1.00744688, 1.02884749, 0.98104144, 0.97900051, 1.00521692],\n",
              "       [1.0520837 , 0.97512316, 1.01759943, 1.00032328, 1.10431162],\n",
              "       [0.99131107, 0.99626161, 0.98360684, 0.90456016, 0.93876392],\n",
              "       [0.9540221 , 0.98809972, 0.95893117, 0.93885754, 0.99864942],\n",
              "       [1.01283686, 0.95747318, 1.01338303, 0.96979186, 1.02817592],\n",
              "       [1.04129317, 0.97162258, 0.97304972, 1.0008535 , 0.98311359],\n",
              "       [1.0892993 , 1.06108342, 1.06408539, 0.93845947, 0.99426006],\n",
              "       [0.98066586, 0.98992374, 0.98212808, 1.01711349, 0.92758665],\n",
              "       [1.00286706, 0.94568091, 0.95073216, 0.97284678, 0.9893567 ],\n",
              "       [0.99530577, 0.96032254, 1.01429824, 1.00361394, 0.98463803],\n",
              "       [0.97464394, 1.04937903, 0.99271743, 0.97774134, 0.95299957],\n",
              "       [0.97327455, 1.0208953 , 1.11792571, 1.05055549, 1.01524439],\n",
              "       [1.0278848 , 0.98578888, 1.00546754, 1.01331658, 0.98980293],\n",
              "       [1.04009857, 0.99106676, 0.99129157, 1.05277178, 1.00521513],\n",
              "       [1.06055211, 0.92267512, 1.05352772, 0.94247226, 0.96349506],\n",
              "       [1.02530024, 0.97652173, 0.94628846, 1.02569944, 1.028821  ],\n",
              "       [0.97361554, 0.99462887, 0.92964402, 1.00366792, 1.00266715],\n",
              "       [0.99377123, 0.99303504, 0.98101404, 1.02302403, 1.02537805],\n",
              "       [1.02275091, 1.06419635, 0.97008094, 0.96046108, 0.98774943],\n",
              "       [1.08633623, 1.04149979, 1.00986701, 1.00930307, 1.03735217],\n",
              "       [0.9819863 , 1.0308045 , 0.96671014, 0.96854192, 1.0793264 ],\n",
              "       [0.99052436, 1.03278847, 1.05781883, 1.01074789, 0.97496306],\n",
              "       [1.01020625, 0.97980234, 1.02391176, 0.95876084, 0.99529882],\n",
              "       [0.98823244, 0.98142358, 1.03835702, 1.00402348, 0.93432665],\n",
              "       [0.97513549, 1.02065029, 1.00754911, 0.96672472, 0.97663808],\n",
              "       [0.96121649, 1.05652155, 1.08269473, 0.989003  , 0.97154666],\n",
              "       [1.01240644, 1.05056967, 0.98159915, 0.93767622, 1.05087032],\n",
              "       [0.99175933, 0.98671609, 1.03369747, 0.97252896, 0.92827181],\n",
              "       [0.99433894, 0.98324848, 0.97273384, 0.97959441, 1.04099328],\n",
              "       [0.9548599 , 0.99008341, 0.97660451, 1.0186702 , 0.95327341],\n",
              "       [1.05600226, 1.06694075, 0.93524532, 0.99136451, 1.00524192]])"
            ]
          },
          "metadata": {
            "tags": []
          },
          "execution_count": 22
        }
      ]
    },
    {
      "cell_type": "markdown",
      "metadata": {
        "id": "-blbT_UZ63Ix",
        "colab_type": "text"
      },
      "source": [
        "3rd part\n"
      ]
    },
    {
      "cell_type": "code",
      "metadata": {
        "id": "8Kx6dDsn65ei",
        "colab_type": "code",
        "colab": {
          "base_uri": "https://localhost:8080/",
          "height": 54
        },
        "outputId": "9b3cd828-b47b-4027-e9d8-81b6ea456dc9"
      },
      "source": [
        "S0 = data.iloc[-1]\n",
        "S0"
      ],
      "execution_count": 23,
      "outputs": [
        {
          "output_type": "execute_result",
          "data": {
            "text/plain": [
              "BTC-USD    9192.548828\n",
              "Name: 2020-06-26 00:00:00, dtype: float64"
            ]
          },
          "metadata": {
            "tags": []
          },
          "execution_count": 23
        }
      ]
    },
    {
      "cell_type": "code",
      "metadata": {
        "id": "ZEt5TSQ56_Xk",
        "colab_type": "code",
        "colab": {}
      },
      "source": [
        "price_list = np.zeros_like(daily_returns)"
      ],
      "execution_count": 24,
      "outputs": []
    },
    {
      "cell_type": "code",
      "metadata": {
        "id": "qrUahBGS7DJO",
        "colab_type": "code",
        "colab": {
          "base_uri": "https://localhost:8080/",
          "height": 1000
        },
        "outputId": "82538c29-8d36-46ed-9f45-45ab63425ccb"
      },
      "source": [
        "price_list"
      ],
      "execution_count": 25,
      "outputs": [
        {
          "output_type": "execute_result",
          "data": {
            "text/plain": [
              "array([[0., 0., 0., 0., 0.],\n",
              "       [0., 0., 0., 0., 0.],\n",
              "       [0., 0., 0., 0., 0.],\n",
              "       [0., 0., 0., 0., 0.],\n",
              "       [0., 0., 0., 0., 0.],\n",
              "       [0., 0., 0., 0., 0.],\n",
              "       [0., 0., 0., 0., 0.],\n",
              "       [0., 0., 0., 0., 0.],\n",
              "       [0., 0., 0., 0., 0.],\n",
              "       [0., 0., 0., 0., 0.],\n",
              "       [0., 0., 0., 0., 0.],\n",
              "       [0., 0., 0., 0., 0.],\n",
              "       [0., 0., 0., 0., 0.],\n",
              "       [0., 0., 0., 0., 0.],\n",
              "       [0., 0., 0., 0., 0.],\n",
              "       [0., 0., 0., 0., 0.],\n",
              "       [0., 0., 0., 0., 0.],\n",
              "       [0., 0., 0., 0., 0.],\n",
              "       [0., 0., 0., 0., 0.],\n",
              "       [0., 0., 0., 0., 0.],\n",
              "       [0., 0., 0., 0., 0.],\n",
              "       [0., 0., 0., 0., 0.],\n",
              "       [0., 0., 0., 0., 0.],\n",
              "       [0., 0., 0., 0., 0.],\n",
              "       [0., 0., 0., 0., 0.],\n",
              "       [0., 0., 0., 0., 0.],\n",
              "       [0., 0., 0., 0., 0.],\n",
              "       [0., 0., 0., 0., 0.],\n",
              "       [0., 0., 0., 0., 0.],\n",
              "       [0., 0., 0., 0., 0.],\n",
              "       [0., 0., 0., 0., 0.],\n",
              "       [0., 0., 0., 0., 0.],\n",
              "       [0., 0., 0., 0., 0.],\n",
              "       [0., 0., 0., 0., 0.],\n",
              "       [0., 0., 0., 0., 0.],\n",
              "       [0., 0., 0., 0., 0.],\n",
              "       [0., 0., 0., 0., 0.],\n",
              "       [0., 0., 0., 0., 0.],\n",
              "       [0., 0., 0., 0., 0.],\n",
              "       [0., 0., 0., 0., 0.],\n",
              "       [0., 0., 0., 0., 0.],\n",
              "       [0., 0., 0., 0., 0.],\n",
              "       [0., 0., 0., 0., 0.],\n",
              "       [0., 0., 0., 0., 0.],\n",
              "       [0., 0., 0., 0., 0.],\n",
              "       [0., 0., 0., 0., 0.],\n",
              "       [0., 0., 0., 0., 0.],\n",
              "       [0., 0., 0., 0., 0.],\n",
              "       [0., 0., 0., 0., 0.],\n",
              "       [0., 0., 0., 0., 0.],\n",
              "       [0., 0., 0., 0., 0.],\n",
              "       [0., 0., 0., 0., 0.],\n",
              "       [0., 0., 0., 0., 0.],\n",
              "       [0., 0., 0., 0., 0.],\n",
              "       [0., 0., 0., 0., 0.],\n",
              "       [0., 0., 0., 0., 0.],\n",
              "       [0., 0., 0., 0., 0.],\n",
              "       [0., 0., 0., 0., 0.],\n",
              "       [0., 0., 0., 0., 0.],\n",
              "       [0., 0., 0., 0., 0.]])"
            ]
          },
          "metadata": {
            "tags": []
          },
          "execution_count": 25
        }
      ]
    },
    {
      "cell_type": "code",
      "metadata": {
        "id": "CG4bBQqN7D7T",
        "colab_type": "code",
        "colab": {
          "base_uri": "https://localhost:8080/",
          "height": 1000
        },
        "outputId": "2a1ea7a4-560c-41b3-8d0c-a1abb76a20e0"
      },
      "source": [
        "price_list[0] = S0\n",
        "price_list"
      ],
      "execution_count": 26,
      "outputs": [
        {
          "output_type": "execute_result",
          "data": {
            "text/plain": [
              "array([[9192.54882812, 9192.54882812, 9192.54882812, 9192.54882812,\n",
              "        9192.54882812],\n",
              "       [   0.        ,    0.        ,    0.        ,    0.        ,\n",
              "           0.        ],\n",
              "       [   0.        ,    0.        ,    0.        ,    0.        ,\n",
              "           0.        ],\n",
              "       [   0.        ,    0.        ,    0.        ,    0.        ,\n",
              "           0.        ],\n",
              "       [   0.        ,    0.        ,    0.        ,    0.        ,\n",
              "           0.        ],\n",
              "       [   0.        ,    0.        ,    0.        ,    0.        ,\n",
              "           0.        ],\n",
              "       [   0.        ,    0.        ,    0.        ,    0.        ,\n",
              "           0.        ],\n",
              "       [   0.        ,    0.        ,    0.        ,    0.        ,\n",
              "           0.        ],\n",
              "       [   0.        ,    0.        ,    0.        ,    0.        ,\n",
              "           0.        ],\n",
              "       [   0.        ,    0.        ,    0.        ,    0.        ,\n",
              "           0.        ],\n",
              "       [   0.        ,    0.        ,    0.        ,    0.        ,\n",
              "           0.        ],\n",
              "       [   0.        ,    0.        ,    0.        ,    0.        ,\n",
              "           0.        ],\n",
              "       [   0.        ,    0.        ,    0.        ,    0.        ,\n",
              "           0.        ],\n",
              "       [   0.        ,    0.        ,    0.        ,    0.        ,\n",
              "           0.        ],\n",
              "       [   0.        ,    0.        ,    0.        ,    0.        ,\n",
              "           0.        ],\n",
              "       [   0.        ,    0.        ,    0.        ,    0.        ,\n",
              "           0.        ],\n",
              "       [   0.        ,    0.        ,    0.        ,    0.        ,\n",
              "           0.        ],\n",
              "       [   0.        ,    0.        ,    0.        ,    0.        ,\n",
              "           0.        ],\n",
              "       [   0.        ,    0.        ,    0.        ,    0.        ,\n",
              "           0.        ],\n",
              "       [   0.        ,    0.        ,    0.        ,    0.        ,\n",
              "           0.        ],\n",
              "       [   0.        ,    0.        ,    0.        ,    0.        ,\n",
              "           0.        ],\n",
              "       [   0.        ,    0.        ,    0.        ,    0.        ,\n",
              "           0.        ],\n",
              "       [   0.        ,    0.        ,    0.        ,    0.        ,\n",
              "           0.        ],\n",
              "       [   0.        ,    0.        ,    0.        ,    0.        ,\n",
              "           0.        ],\n",
              "       [   0.        ,    0.        ,    0.        ,    0.        ,\n",
              "           0.        ],\n",
              "       [   0.        ,    0.        ,    0.        ,    0.        ,\n",
              "           0.        ],\n",
              "       [   0.        ,    0.        ,    0.        ,    0.        ,\n",
              "           0.        ],\n",
              "       [   0.        ,    0.        ,    0.        ,    0.        ,\n",
              "           0.        ],\n",
              "       [   0.        ,    0.        ,    0.        ,    0.        ,\n",
              "           0.        ],\n",
              "       [   0.        ,    0.        ,    0.        ,    0.        ,\n",
              "           0.        ],\n",
              "       [   0.        ,    0.        ,    0.        ,    0.        ,\n",
              "           0.        ],\n",
              "       [   0.        ,    0.        ,    0.        ,    0.        ,\n",
              "           0.        ],\n",
              "       [   0.        ,    0.        ,    0.        ,    0.        ,\n",
              "           0.        ],\n",
              "       [   0.        ,    0.        ,    0.        ,    0.        ,\n",
              "           0.        ],\n",
              "       [   0.        ,    0.        ,    0.        ,    0.        ,\n",
              "           0.        ],\n",
              "       [   0.        ,    0.        ,    0.        ,    0.        ,\n",
              "           0.        ],\n",
              "       [   0.        ,    0.        ,    0.        ,    0.        ,\n",
              "           0.        ],\n",
              "       [   0.        ,    0.        ,    0.        ,    0.        ,\n",
              "           0.        ],\n",
              "       [   0.        ,    0.        ,    0.        ,    0.        ,\n",
              "           0.        ],\n",
              "       [   0.        ,    0.        ,    0.        ,    0.        ,\n",
              "           0.        ],\n",
              "       [   0.        ,    0.        ,    0.        ,    0.        ,\n",
              "           0.        ],\n",
              "       [   0.        ,    0.        ,    0.        ,    0.        ,\n",
              "           0.        ],\n",
              "       [   0.        ,    0.        ,    0.        ,    0.        ,\n",
              "           0.        ],\n",
              "       [   0.        ,    0.        ,    0.        ,    0.        ,\n",
              "           0.        ],\n",
              "       [   0.        ,    0.        ,    0.        ,    0.        ,\n",
              "           0.        ],\n",
              "       [   0.        ,    0.        ,    0.        ,    0.        ,\n",
              "           0.        ],\n",
              "       [   0.        ,    0.        ,    0.        ,    0.        ,\n",
              "           0.        ],\n",
              "       [   0.        ,    0.        ,    0.        ,    0.        ,\n",
              "           0.        ],\n",
              "       [   0.        ,    0.        ,    0.        ,    0.        ,\n",
              "           0.        ],\n",
              "       [   0.        ,    0.        ,    0.        ,    0.        ,\n",
              "           0.        ],\n",
              "       [   0.        ,    0.        ,    0.        ,    0.        ,\n",
              "           0.        ],\n",
              "       [   0.        ,    0.        ,    0.        ,    0.        ,\n",
              "           0.        ],\n",
              "       [   0.        ,    0.        ,    0.        ,    0.        ,\n",
              "           0.        ],\n",
              "       [   0.        ,    0.        ,    0.        ,    0.        ,\n",
              "           0.        ],\n",
              "       [   0.        ,    0.        ,    0.        ,    0.        ,\n",
              "           0.        ],\n",
              "       [   0.        ,    0.        ,    0.        ,    0.        ,\n",
              "           0.        ],\n",
              "       [   0.        ,    0.        ,    0.        ,    0.        ,\n",
              "           0.        ],\n",
              "       [   0.        ,    0.        ,    0.        ,    0.        ,\n",
              "           0.        ],\n",
              "       [   0.        ,    0.        ,    0.        ,    0.        ,\n",
              "           0.        ],\n",
              "       [   0.        ,    0.        ,    0.        ,    0.        ,\n",
              "           0.        ]])"
            ]
          },
          "metadata": {
            "tags": []
          },
          "execution_count": 26
        }
      ]
    },
    {
      "cell_type": "code",
      "metadata": {
        "id": "fy7WkS5A7IQm",
        "colab_type": "code",
        "colab": {}
      },
      "source": [
        "for t in range(1, t_intervals):\n",
        "  price_list[t] = price_list[t-1] * daily_returns[t]"
      ],
      "execution_count": 27,
      "outputs": []
    },
    {
      "cell_type": "code",
      "metadata": {
        "id": "p4WeN3pa7WLi",
        "colab_type": "code",
        "colab": {
          "base_uri": "https://localhost:8080/",
          "height": 1000
        },
        "outputId": "fdb4d97e-b934-476d-db65-ba726b349e64"
      },
      "source": [
        "price_list"
      ],
      "execution_count": 28,
      "outputs": [
        {
          "output_type": "execute_result",
          "data": {
            "text/plain": [
              "array([[ 9192.54882812,  9192.54882812,  9192.54882812,  9192.54882812,\n",
              "         9192.54882812],\n",
              "       [ 9343.67623114,  9171.54193206,  9293.29882475,  9052.00856079,\n",
              "         9310.2569456 ],\n",
              "       [ 9886.66327219,  9216.71888428,  9022.33872151,  8400.0609699 ,\n",
              "         8979.6261722 ],\n",
              "       [ 9431.82577161,  9360.30398212,  8840.04054402,  8508.28215121,\n",
              "         9064.64563642],\n",
              "       [ 9272.89911846,  9769.67197979,  9268.82981153,  8322.94918877,\n",
              "         9025.37197034],\n",
              "       [ 9191.04545639, 10355.7202638 ,  8897.52418149,  7709.33718208,\n",
              "         9156.90797371],\n",
              "       [ 9524.18847083,  9908.5558251 ,  9054.75337056,  7754.47876452,\n",
              "         9285.85356635],\n",
              "       [ 9890.85443096,  9569.30076337,  9846.27378022,  8106.28500519,\n",
              "         9567.45196101],\n",
              "       [ 9397.5538439 ,  9310.74089433,  9663.90220707,  8320.27025703,\n",
              "         9541.70733795],\n",
              "       [ 9590.6968556 ,  9359.57840366,  9951.20850513,  8476.81819215,\n",
              "        10077.45751032],\n",
              "       [ 8616.99152587,  9694.34934682,  9482.01408943,  8438.38533394,\n",
              "        10464.20907438],\n",
              "       [ 8534.80691059,  9684.7469954 ,  9442.93738542,  7563.44208374,\n",
              "        10497.65414093],\n",
              "       [ 8372.19049255,  9791.82343409,  9223.01015264,  7304.40656047,\n",
              "        10307.17338825],\n",
              "       [ 7876.19873057,  9437.26628229,  9714.2352721 ,  7064.57109925,\n",
              "         9543.0421365 ],\n",
              "       [ 7998.16498375,  9204.28820949,  9507.51316217,  6979.1938178 ,\n",
              "         9675.42108892],\n",
              "       [ 7737.8144046 ,  9515.26200149,  9804.65684929,  6843.79492702,\n",
              "         9203.58773986],\n",
              "       [ 7814.25182719,  9783.25212876,  9922.70759451,  6699.65435032,\n",
              "         9485.11136529],\n",
              "       [ 8409.04670892,  9233.38502353, 10094.6623105 ,  6898.31459076,\n",
              "         9716.68727523],\n",
              "       [ 7856.15466123,  9295.35380181, 10125.75495274,  6974.46836446,\n",
              "         9608.45878899],\n",
              "       [ 8163.24674641,  8906.80629096,  9208.51165553,  6971.93084176,\n",
              "         9445.35349518],\n",
              "       [ 7848.26454045,  8676.879274  ,  9050.50272385,  7131.28153354,\n",
              "         9538.42273085],\n",
              "       [ 7611.16943514,  9243.97621875,  8717.23729653,  7109.59664331,\n",
              "         9706.55018818],\n",
              "       [ 7463.94636132,  9486.67514057,  9052.88618179,  7455.20082299,\n",
              "         9655.10549901],\n",
              "       [ 7766.63611288,  8872.28906323,  9448.8565587 ,  7563.18006684,\n",
              "         9219.31519079],\n",
              "       [ 8099.24683047,  8735.15693278,  9090.54474667,  7917.90075738,\n",
              "         9130.90992277],\n",
              "       [ 8336.60976859,  8650.99240905,  9059.21912596,  7711.50825458,\n",
              "         9335.61910909],\n",
              "       [ 8257.97487196,  8703.69061228,  8932.46726787,  7447.79021357,\n",
              "         9749.21012845],\n",
              "       [ 8263.91975213,  8326.46246487,  8958.54030973,  7698.64923422,\n",
              "         9614.39357463],\n",
              "       [ 8207.8779425 ,  8316.37982057,  9184.78910725,  8488.69571461,\n",
              "        10173.56451552],\n",
              "       [ 8269.00102821,  8556.28648926,  9010.65874112,  8310.43742315,\n",
              "        10226.639142  ],\n",
              "       [ 8699.68118927,  8343.43314232,  9169.24122683,  8313.1240279 ,\n",
              "        11293.39639299],\n",
              "       [ 8624.0902307 ,  8312.24214288,  9018.92840413,  7519.72080925,\n",
              "        10601.83311116],\n",
              "       [ 8227.57263385,  8213.32414007,  8648.53154789,  7059.94658087,\n",
              "        10587.51447947],\n",
              "       [ 8333.18886754,  7864.03756269,  8764.2751448 ,  6846.67870768,\n",
              "        10885.8274795 ],\n",
              "       [ 8677.29263661,  7640.8764577 ,  8528.07547982,  6852.52231934,\n",
              "        10702.00491531],\n",
              "       [ 9452.16875584,  8107.60729529,  9074.6004887 ,  6430.8144357 ,\n",
              "        10640.57610063],\n",
              "       [ 9269.4192303 ,  8025.91296302,  8912.41996959,  6540.8681224 ,\n",
              "         9870.05635927],\n",
              "       [ 9295.99518739,  7589.95268448,  8473.32430974,  6363.26246087,\n",
              "         9765.00634426],\n",
              "       [ 9252.35767215,  7288.80267502,  8594.47789526,  6386.25890336,\n",
              "         9614.99665   ],\n",
              "       [ 9017.75429899,  7648.71669939,  8531.88797344,  6244.10935756,\n",
              "         9163.08771204],\n",
              "       [ 8776.75076813,  7808.53892672,  9538.01688883,  6559.78337806,\n",
              "         9302.7733839 ],\n",
              "       [ 9021.48867543,  7697.57080952,  9590.16639207,  6647.13726532,\n",
              "         9207.91237894],\n",
              "       [ 9383.2374672 ,  7628.80659663,  9506.65107772,  6997.91852753,\n",
              "         9255.9328389 ],\n",
              "       [ 9951.41233307,  7038.91002997, 10015.52047927,  6595.34405914,\n",
              "         8918.04552997],\n",
              "       [10203.18545021,  6873.6486055 ,  9477.57140979,  6764.84069735,\n",
              "         9175.07255584],\n",
              "       [ 9933.97986715,  6836.72933765,  8810.76754454,  6789.65359526,\n",
              "         9199.54387012],\n",
              "       [ 9872.10340881,  6789.1117739 ,  8643.48662091,  6945.97875454,\n",
              "         9433.01032529],\n",
              "       [10096.70278703,  7224.94794469,  8384.88159324,  6671.34226426,\n",
              "         9317.45053908],\n",
              "       [10968.41406159,  7524.78180246,  8467.61530141,  6733.40621695,\n",
              "         9665.47749768],\n",
              "       [10770.83231667,  7756.57892339,  8185.72958332,  6521.5861832 ,\n",
              "        10432.20502455],\n",
              "       [10668.77179537,  8010.9052571 ,  8659.01892675,  6591.6795001 ,\n",
              "        10171.01450828],\n",
              "       [10777.65990842,  7849.10368437,  8866.07127823,  6319.8441453 ,\n",
              "        10123.1987499 ],\n",
              "       [10650.83319893,  7703.29541464,  9206.14732203,  6345.27193779,\n",
              "         9458.37435666],\n",
              "       [10386.0054937 ,  7862.3707103 ,  9275.64551996,  6134.13121825,\n",
              "         9237.40852812],\n",
              "       [ 9983.1997041 ,  8306.76411774, 10042.69256047,  6066.6741523 ,\n",
              "         8974.57342137],\n",
              "       [10107.05570201,  8726.83442159,  9857.89847645,  5688.5760706 ,\n",
              "         9431.11285582],\n",
              "       [10023.76680177,  8610.90794109, 10190.08475743,  5532.30499415,\n",
              "         8754.63616186],\n",
              "       [ 9967.02170447,  8466.6621744 ,  9912.24026733,  5419.41505413,\n",
              "         9113.51742863],\n",
              "       [ 9517.10939051,  8382.7017957 ,  9680.33855668,  5520.59663419,\n",
              "         8687.67386705],\n",
              "       [10050.08899586,  8943.84615631,  9053.49131167,  5472.92358495,\n",
              "         8733.21397695]])"
            ]
          },
          "metadata": {
            "tags": []
          },
          "execution_count": 28
        }
      ]
    },
    {
      "cell_type": "code",
      "metadata": {
        "id": "gv7RCk_a7Z1G",
        "colab_type": "code",
        "colab": {
          "base_uri": "https://localhost:8080/",
          "height": 404
        },
        "outputId": "c13097e1-3b0a-4e7d-8e23-8acc010f33c2"
      },
      "source": [
        "plt.figure(figsize=(10,6))\n",
        "plt.plot(price_list) \n",
        "plt.grid(True)\n",
        "plt.xlabel('DAYS', color='orange')\n",
        "plt.ylabel('PRICE', color='orange')\n",
        "plt.title('Monte Carlo Simulation for XAU/USD',color='#FF8484')\n",
        "plt.show()"
      ],
      "execution_count": 29,
      "outputs": [
        {
          "output_type": "display_data",
          "data": {
            "image/png": "[encoded data removed]",
            "text/plain": [
              "<Figure size 720x432 with 1 Axes>"
            ]
          },
          "metadata": {
            "tags": [],
            "needs_background": "light"
          }
        }
      ]
    },
    {
      "cell_type": "code",
      "metadata": {
        "id": "jWql1y1e7ffG",
        "colab_type": "code",
        "colab": {}
      },
      "source": [
        ""
      ],
      "execution_count": 29,
      "outputs": []
    },
    {
      "cell_type": "code",
      "metadata": {
        "id": "jy0M1u-V8SIv",
        "colab_type": "code",
        "colab": {}
      },
      "source": [
        ""
      ],
      "execution_count": 29,
      "outputs": []
    }
  ]
}