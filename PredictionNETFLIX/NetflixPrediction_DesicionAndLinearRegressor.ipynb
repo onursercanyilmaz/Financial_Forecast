{
  "nbformat": 4,
  "nbformat_minor": 0,
  "metadata": {
    "colab": {
      "name": "NetflixPrediction_DesicionAndLinearRegressor.ipynb",
      "provenance": [],
      "collapsed_sections": []
    },
    "kernelspec": {
      "name": "python3",
      "display_name": "Python 3"
    }
  },
  "cells": [
    {
      "cell_type": "code",
      "metadata": {
        "id": "V8nXJoNdrPXH",
        "colab_type": "code",
        "colab": {}
      },
      "source": [
        "import numpy as np\n",
        "import pandas as pd\n",
        "from sklearn.tree import DecisionTreeRegressor\n",
        "from sklearn.linear_model import LinearRegression\n",
        "from sklearn.model_selection import train_test_split\n",
        "import matplotlib.pyplot as plt\n",
        "plt.style.use('bmh')\n",
        "\n"
      ],
      "execution_count": 0,
      "outputs": []
    },
    {
      "cell_type": "code",
      "metadata": {
        "id": "GrIdK8Nqr2OP",
        "colab_type": "code",
        "outputId": "3ddc3fc9-0c65-4449-95ac-f58c6b80a852",
        "colab": {
          "resources": {
            "http://localhost:8080/nbextensions/google.colab/files.js": {
              "data": "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",
              "ok": true,
              "headers": [
                [
                  "content-type",
                  "application/javascript"
                ]
              ],
              "status": 200,
              "status_text": "OK"
            }
          },
          "base_uri": "https://localhost:8080/",
          "height": 75
        }
      },
      "source": [
        "#Load the data\n",
        "from google.colab import files\n",
        "uploaded = files.upload()"
      ],
      "execution_count": 60,
      "outputs": [
        {
          "output_type": "display_data",
          "data": {
            "text/html": [
              "\n",
              "     <input type=\"file\" id=\"files-153be262-4722-4ee5-8a62-16954bacd972\" name=\"files[]\" multiple disabled />\n",
              "     <output id=\"result-153be262-4722-4ee5-8a62-16954bacd972\">\n",
              "      Upload widget is only available when the cell has been executed in the\n",
              "      current browser session. Please rerun this cell to enable.\n",
              "      </output>\n",
              "      <script src=\"/nbextensions/google.colab/files.js\"></script> "
            ],
            "text/plain": [
              "<IPython.core.display.HTML object>"
            ]
          },
          "metadata": {
            "tags": []
          }
        },
        {
          "output_type": "stream",
          "text": [
            "Saving NFLX.csv to NFLX.csv\n"
          ],
          "name": "stdout"
        }
      ]
    },
    {
      "cell_type": "code",
      "metadata": {
        "id": "ZQvvBfl2sDn6",
        "colab_type": "code",
        "outputId": "b04d1039-e0ce-40f9-d07f-4ba67b6bf3eb",
        "colab": {
          "base_uri": "https://localhost:8080/",
          "height": 206
        }
      },
      "source": [
        "#Store the data into a dataframe\n",
        "df = pd.read_csv('NFLX.csv')\n",
        "df.head(5)"
      ],
      "execution_count": 61,
      "outputs": [
        {
          "output_type": "execute_result",
          "data": {
            "text/html": [
              "<div>\n",
              "<style scoped>\n",
              "    .dataframe tbody tr th:only-of-type {\n",
              "        vertical-align: middle;\n",
              "    }\n",
              "\n",
              "    .dataframe tbody tr th {\n",
              "        vertical-align: top;\n",
              "    }\n",
              "\n",
              "    .dataframe thead th {\n",
              "        text-align: right;\n",
              "    }\n",
              "</style>\n",
              "<table border=\"1\" class=\"dataframe\">\n",
              "  <thead>\n",
              "    <tr style=\"text-align: right;\">\n",
              "      <th></th>\n",
              "      <th>Date</th>\n",
              "      <th>Open</th>\n",
              "      <th>High</th>\n",
              "      <th>Low</th>\n",
              "      <th>Close</th>\n",
              "      <th>Adj Close</th>\n",
              "      <th>Volume</th>\n",
              "    </tr>\n",
              "  </thead>\n",
              "  <tbody>\n",
              "    <tr>\n",
              "      <th>0</th>\n",
              "      <td>2002-05-01</td>\n",
              "      <td>1.156429</td>\n",
              "      <td>1.242857</td>\n",
              "      <td>1.071429</td>\n",
              "      <td>1.076429</td>\n",
              "      <td>1.076429</td>\n",
              "      <td>147880600</td>\n",
              "    </tr>\n",
              "    <tr>\n",
              "      <th>1</th>\n",
              "      <td>2002-06-01</td>\n",
              "      <td>1.080000</td>\n",
              "      <td>1.232143</td>\n",
              "      <td>0.842143</td>\n",
              "      <td>0.999286</td>\n",
              "      <td>0.999286</td>\n",
              "      <td>74190200</td>\n",
              "    </tr>\n",
              "    <tr>\n",
              "      <th>2</th>\n",
              "      <td>2002-07-01</td>\n",
              "      <td>1.000000</td>\n",
              "      <td>1.299286</td>\n",
              "      <td>0.850000</td>\n",
              "      <td>0.953571</td>\n",
              "      <td>0.953571</td>\n",
              "      <td>73610600</td>\n",
              "    </tr>\n",
              "    <tr>\n",
              "      <th>3</th>\n",
              "      <td>2002-08-01</td>\n",
              "      <td>0.950000</td>\n",
              "      <td>0.999286</td>\n",
              "      <td>0.706429</td>\n",
              "      <td>0.936429</td>\n",
              "      <td>0.936429</td>\n",
              "      <td>64883000</td>\n",
              "    </tr>\n",
              "    <tr>\n",
              "      <th>4</th>\n",
              "      <td>2002-09-01</td>\n",
              "      <td>0.936429</td>\n",
              "      <td>0.976429</td>\n",
              "      <td>0.689286</td>\n",
              "      <td>0.692857</td>\n",
              "      <td>0.692857</td>\n",
              "      <td>55749400</td>\n",
              "    </tr>\n",
              "  </tbody>\n",
              "</table>\n",
              "</div>"
            ],
            "text/plain": [
              "         Date      Open      High       Low     Close  Adj Close     Volume\n",
              "0  2002-05-01  1.156429  1.242857  1.071429  1.076429   1.076429  147880600\n",
              "1  2002-06-01  1.080000  1.232143  0.842143  0.999286   0.999286   74190200\n",
              "2  2002-07-01  1.000000  1.299286  0.850000  0.953571   0.953571   73610600\n",
              "3  2002-08-01  0.950000  0.999286  0.706429  0.936429   0.936429   64883000\n",
              "4  2002-09-01  0.936429  0.976429  0.689286  0.692857   0.692857   55749400"
            ]
          },
          "metadata": {
            "tags": []
          },
          "execution_count": 61
        }
      ]
    },
    {
      "cell_type": "code",
      "metadata": {
        "id": "gp9ul9qcsUGp",
        "colab_type": "code",
        "outputId": "db9cb202-ecd0-4d89-fd79-fc05cc98a7f8",
        "colab": {
          "base_uri": "https://localhost:8080/",
          "height": 271
        }
      },
      "source": [
        "#Get the number of trading days\n",
        "df.info()"
      ],
      "execution_count": 62,
      "outputs": [
        {
          "output_type": "stream",
          "text": [
            "<class 'pandas.core.frame.DataFrame'>\n",
            "RangeIndex: 218 entries, 0 to 217\n",
            "Data columns (total 7 columns):\n",
            " #   Column     Non-Null Count  Dtype  \n",
            "---  ------     --------------  -----  \n",
            " 0   Date       218 non-null    object \n",
            " 1   Open       218 non-null    float64\n",
            " 2   High       218 non-null    float64\n",
            " 3   Low        218 non-null    float64\n",
            " 4   Close      218 non-null    float64\n",
            " 5   Adj Close  218 non-null    float64\n",
            " 6   Volume     218 non-null    int64  \n",
            "dtypes: float64(5), int64(1), object(1)\n",
            "memory usage: 12.0+ KB\n"
          ],
          "name": "stdout"
        }
      ]
    },
    {
      "cell_type": "code",
      "metadata": {
        "id": "VGqrphj9s0yr",
        "colab_type": "code",
        "outputId": "c8d87819-0927-4f24-a112-7e2a9b180939",
        "colab": {
          "base_uri": "https://localhost:8080/",
          "height": 513
        }
      },
      "source": [
        "#Visualize the close price data\n",
        "plt.figure(figsize=(16,8))\n",
        "plt.title('Netflix')\n",
        "plt.xlabel('Day')\n",
        "plt.ylabel('Close')\n",
        "plt.plot(df['Close'])\n",
        "plt.show()"
      ],
      "execution_count": 63,
      "outputs": [
        {
          "output_type": "display_data",
          "data": {
            "image/png": "[encoded data removed]",
            "text/plain": [
              "<Figure size 1152x576 with 1 Axes>"
            ]
          },
          "metadata": {
            "tags": [],
            "needs_background": "light"
          }
        }
      ]
    },
    {
      "cell_type": "code",
      "metadata": {
        "id": "LT27H5ZMtN4R",
        "colab_type": "code",
        "outputId": "19485028-c839-4b30-a2b1-37bac97fab36",
        "colab": {
          "base_uri": "https://localhost:8080/",
          "height": 175
        }
      },
      "source": [
        "#Get the close price\n",
        "df = df[['Close']]\n",
        "df.head(4)"
      ],
      "execution_count": 64,
      "outputs": [
        {
          "output_type": "execute_result",
          "data": {
            "text/html": [
              "<div>\n",
              "<style scoped>\n",
              "    .dataframe tbody tr th:only-of-type {\n",
              "        vertical-align: middle;\n",
              "    }\n",
              "\n",
              "    .dataframe tbody tr th {\n",
              "        vertical-align: top;\n",
              "    }\n",
              "\n",
              "    .dataframe thead th {\n",
              "        text-align: right;\n",
              "    }\n",
              "</style>\n",
              "<table border=\"1\" class=\"dataframe\">\n",
              "  <thead>\n",
              "    <tr style=\"text-align: right;\">\n",
              "      <th></th>\n",
              "      <th>Close</th>\n",
              "    </tr>\n",
              "  </thead>\n",
              "  <tbody>\n",
              "    <tr>\n",
              "      <th>0</th>\n",
              "      <td>1.076429</td>\n",
              "    </tr>\n",
              "    <tr>\n",
              "      <th>1</th>\n",
              "      <td>0.999286</td>\n",
              "    </tr>\n",
              "    <tr>\n",
              "      <th>2</th>\n",
              "      <td>0.953571</td>\n",
              "    </tr>\n",
              "    <tr>\n",
              "      <th>3</th>\n",
              "      <td>0.936429</td>\n",
              "    </tr>\n",
              "  </tbody>\n",
              "</table>\n",
              "</div>"
            ],
            "text/plain": [
              "      Close\n",
              "0  1.076429\n",
              "1  0.999286\n",
              "2  0.953571\n",
              "3  0.936429"
            ]
          },
          "metadata": {
            "tags": []
          },
          "execution_count": 64
        }
      ]
    },
    {
      "cell_type": "code",
      "metadata": {
        "id": "WtpO_qwytpnB",
        "colab_type": "code",
        "outputId": "1e8dc2a9-6b6b-4706-d41b-7a63f8233fb6",
        "colab": {
          "base_uri": "https://localhost:8080/",
          "height": 175
        }
      },
      "source": [
        "#Create a variable to predict 'x' days out into the future\n",
        "future_days = 25\n",
        "#Create a new column (target) shifted 'x' units/days up\n",
        "df['Prediction'] = df[['Close']].shift(-future_days)\n",
        "df.tail(4)"
      ],
      "execution_count": 65,
      "outputs": [
        {
          "output_type": "execute_result",
          "data": {
            "text/html": [
              "<div>\n",
              "<style scoped>\n",
              "    .dataframe tbody tr th:only-of-type {\n",
              "        vertical-align: middle;\n",
              "    }\n",
              "\n",
              "    .dataframe tbody tr th {\n",
              "        vertical-align: top;\n",
              "    }\n",
              "\n",
              "    .dataframe thead th {\n",
              "        text-align: right;\n",
              "    }\n",
              "</style>\n",
              "<table border=\"1\" class=\"dataframe\">\n",
              "  <thead>\n",
              "    <tr style=\"text-align: right;\">\n",
              "      <th></th>\n",
              "      <th>Close</th>\n",
              "      <th>Prediction</th>\n",
              "    </tr>\n",
              "  </thead>\n",
              "  <tbody>\n",
              "    <tr>\n",
              "      <th>214</th>\n",
              "      <td>375.500000</td>\n",
              "      <td>NaN</td>\n",
              "    </tr>\n",
              "    <tr>\n",
              "      <th>215</th>\n",
              "      <td>419.850006</td>\n",
              "      <td>NaN</td>\n",
              "    </tr>\n",
              "    <tr>\n",
              "      <th>216</th>\n",
              "      <td>431.820007</td>\n",
              "      <td>NaN</td>\n",
              "    </tr>\n",
              "    <tr>\n",
              "      <th>217</th>\n",
              "      <td>438.269989</td>\n",
              "      <td>NaN</td>\n",
              "    </tr>\n",
              "  </tbody>\n",
              "</table>\n",
              "</div>"
            ],
            "text/plain": [
              "          Close  Prediction\n",
              "214  375.500000         NaN\n",
              "215  419.850006         NaN\n",
              "216  431.820007         NaN\n",
              "217  438.269989         NaN"
            ]
          },
          "metadata": {
            "tags": []
          },
          "execution_count": 65
        }
      ]
    },
    {
      "cell_type": "code",
      "metadata": {
        "id": "WOP2I3d7uFvc",
        "colab_type": "code",
        "outputId": "17a0bd17-d03c-4b9f-f39f-244f84860f62",
        "colab": {
          "base_uri": "https://localhost:8080/",
          "height": 181
        }
      },
      "source": [
        "df.info()"
      ],
      "execution_count": 66,
      "outputs": [
        {
          "output_type": "stream",
          "text": [
            "<class 'pandas.core.frame.DataFrame'>\n",
            "RangeIndex: 218 entries, 0 to 217\n",
            "Data columns (total 2 columns):\n",
            " #   Column      Non-Null Count  Dtype  \n",
            "---  ------      --------------  -----  \n",
            " 0   Close       218 non-null    float64\n",
            " 1   Prediction  193 non-null    float64\n",
            "dtypes: float64(2)\n",
            "memory usage: 3.5 KB\n"
          ],
          "name": "stdout"
        }
      ]
    },
    {
      "cell_type": "code",
      "metadata": {
        "id": "OKRHzf6gukb2",
        "colab_type": "code",
        "outputId": "9d1999c9-5788-4715-ba84-0e19cc17d433",
        "colab": {
          "base_uri": "https://localhost:8080/",
          "height": 1000
        }
      },
      "source": [
        "#Create the feature dataset (X) and convert to a numpy array and remove the last 'x' rows/days\n",
        "X = np.array(df.drop(['Prediction'],1)) [:-future_days]\n",
        "print(X)"
      ],
      "execution_count": 67,
      "outputs": [
        {
          "output_type": "stream",
          "text": [
            "[[  1.076429]\n",
            " [  0.999286]\n",
            " [  0.953571]\n",
            " [  0.936429]\n",
            " [  0.692857]\n",
            " [  0.640714]\n",
            " [  0.775   ]\n",
            " [  0.786429]\n",
            " [  0.942857]\n",
            " [  1.222143]\n",
            " [  1.453571]\n",
            " [  1.628571]\n",
            " [  1.607143]\n",
            " [  1.825   ]\n",
            " [  1.871429]\n",
            " [  2.380714]\n",
            " [  2.397143]\n",
            " [  4.092857]\n",
            " [  3.5     ]\n",
            " [  3.906429]\n",
            " [  5.243571]\n",
            " [  4.914286]\n",
            " [  4.874286]\n",
            " [  3.622857]\n",
            " [  4.702857]\n",
            " [  5.142857]\n",
            " [  2.928571]\n",
            " [  1.992857]\n",
            " [  2.202857]\n",
            " [  1.352857]\n",
            " [  1.625714]\n",
            " [  1.761429]\n",
            " [  1.642857]\n",
            " [  1.528571]\n",
            " [  1.55    ]\n",
            " [  1.65    ]\n",
            " [  2.041429]\n",
            " [  2.344286]\n",
            " [  2.651428]\n",
            " [  3.08    ]\n",
            " [  3.712857]\n",
            " [  3.772857]\n",
            " [  3.934286]\n",
            " [  3.865714]\n",
            " [  3.935714]\n",
            " [  3.83    ]\n",
            " [  4.141428]\n",
            " [  4.234286]\n",
            " [  3.955714]\n",
            " [  3.887143]\n",
            " [  2.955714]\n",
            " [  2.86    ]\n",
            " [  3.254286]\n",
            " [  3.951429]\n",
            " [  4.182857]\n",
            " [  3.694286]\n",
            " [  3.258571]\n",
            " [  3.218571]\n",
            " [  3.312857]\n",
            " [  3.167143]\n",
            " [  3.128572]\n",
            " [  2.77    ]\n",
            " [  2.461429]\n",
            " [  2.502857]\n",
            " [  2.964286]\n",
            " [  3.781429]\n",
            " [  3.3     ]\n",
            " [  3.802857]\n",
            " [  3.592857]\n",
            " [  4.511428]\n",
            " [  4.95    ]\n",
            " [  4.568572]\n",
            " [  4.337143]\n",
            " [  3.724286]\n",
            " [  4.412857]\n",
            " [  4.405715]\n",
            " [  4.411428]\n",
            " [  3.537143]\n",
            " [  3.282857]\n",
            " [  4.27    ]\n",
            " [  5.162857]\n",
            " [  5.177143]\n",
            " [  6.131429]\n",
            " [  6.472857]\n",
            " [  5.631429]\n",
            " [  5.905715]\n",
            " [  6.277143]\n",
            " [  6.232857]\n",
            " [  6.595714]\n",
            " [  7.635714]\n",
            " [  8.375714]\n",
            " [  7.87    ]\n",
            " [  8.892858]\n",
            " [  9.435715]\n",
            " [ 10.534286]\n",
            " [ 14.128572]\n",
            " [ 15.878572]\n",
            " [ 15.521428]\n",
            " [ 14.65    ]\n",
            " [ 17.931429]\n",
            " [ 23.165714]\n",
            " [ 24.795713]\n",
            " [ 29.414286]\n",
            " [ 25.1     ]\n",
            " [ 30.582857]\n",
            " [ 29.524286]\n",
            " [ 33.968571]\n",
            " [ 33.238571]\n",
            " [ 38.685715]\n",
            " [ 37.527142]\n",
            " [ 37.998573]\n",
            " [ 33.572857]\n",
            " [ 16.181429]\n",
            " [ 11.725715]\n",
            " [  9.218572]\n",
            " [  9.898571]\n",
            " [ 17.171429]\n",
            " [ 15.818571]\n",
            " [ 16.434286]\n",
            " [ 11.448571]\n",
            " [  9.062857]\n",
            " [  9.784286]\n",
            " [  8.121428]\n",
            " [  8.531428]\n",
            " [  7.777143]\n",
            " [ 11.32    ]\n",
            " [ 11.672857]\n",
            " [ 13.227143]\n",
            " [ 23.605715]\n",
            " [ 26.868572]\n",
            " [ 27.040001]\n",
            " [ 30.867144]\n",
            " [ 32.32143 ]\n",
            " [ 30.155714]\n",
            " [ 34.925713]\n",
            " [ 40.558571]\n",
            " [ 44.172855]\n",
            " [ 46.068573]\n",
            " [ 52.257141]\n",
            " [ 52.595715]\n",
            " [ 58.475716]\n",
            " [ 63.66143 ]\n",
            " [ 50.290001]\n",
            " [ 46.005714]\n",
            " [ 59.689999]\n",
            " [ 62.942856]\n",
            " [ 60.388573]\n",
            " [ 68.234283]\n",
            " [ 64.454285]\n",
            " [ 56.110001]\n",
            " [ 49.512856]\n",
            " [ 48.80143 ]\n",
            " [ 63.114285]\n",
            " [ 67.844284]\n",
            " [ 59.527142]\n",
            " [ 79.5     ]\n",
            " [ 89.151428]\n",
            " [ 93.848572]\n",
            " [114.309998]\n",
            " [115.029999]\n",
            " [103.260002]\n",
            " [108.379997]\n",
            " [123.330002]\n",
            " [114.379997]\n",
            " [ 91.839996]\n",
            " [ 93.410004]\n",
            " [102.230003]\n",
            " [ 90.029999]\n",
            " [102.57    ]\n",
            " [ 91.480003]\n",
            " [ 91.25    ]\n",
            " [ 97.449997]\n",
            " [ 98.550003]\n",
            " [124.870003]\n",
            " [117.      ]\n",
            " [123.800003]\n",
            " [140.710007]\n",
            " [142.130005]\n",
            " [147.809998]\n",
            " [152.199997]\n",
            " [163.070007]\n",
            " [149.410004]\n",
            " [181.660004]\n",
            " [174.710007]\n",
            " [181.350006]\n",
            " [196.429993]\n",
            " [195.509995]\n",
            " [191.960007]\n",
            " [270.299988]\n",
            " [291.380005]\n",
            " [295.350006]\n",
            " [312.459991]\n",
            " [351.600006]]\n"
          ],
          "name": "stdout"
        }
      ]
    },
    {
      "cell_type": "code",
      "metadata": {
        "id": "BDgIWI-vvD5Y",
        "colab_type": "code",
        "outputId": "6389cc82-1619-4290-be9c-9cf0eb8c9d96",
        "colab": {
          "base_uri": "https://localhost:8080/",
          "height": 617
        }
      },
      "source": [
        "#Create the feature dataset (X) and convert to a numpy array and remove the last 'x' rows/days\n",
        "y = np.array(df['Prediction']) [:-future_days]\n",
        "print(y)"
      ],
      "execution_count": 68,
      "outputs": [
        {
          "output_type": "stream",
          "text": [
            "[  5.142857   2.928571   1.992857   2.202857   1.352857   1.625714\n",
            "   1.761429   1.642857   1.528571   1.55       1.65       2.041429\n",
            "   2.344286   2.651428   3.08       3.712857   3.772857   3.934286\n",
            "   3.865714   3.935714   3.83       4.141428   4.234286   3.955714\n",
            "   3.887143   2.955714   2.86       3.254286   3.951429   4.182857\n",
            "   3.694286   3.258571   3.218571   3.312857   3.167143   3.128572\n",
            "   2.77       2.461429   2.502857   2.964286   3.781429   3.3\n",
            "   3.802857   3.592857   4.511428   4.95       4.568572   4.337143\n",
            "   3.724286   4.412857   4.405715   4.411428   3.537143   3.282857\n",
            "   4.27       5.162857   5.177143   6.131429   6.472857   5.631429\n",
            "   5.905715   6.277143   6.232857   6.595714   7.635714   8.375714\n",
            "   7.87       8.892858   9.435715  10.534286  14.128572  15.878572\n",
            "  15.521428  14.65      17.931429  23.165714  24.795713  29.414286\n",
            "  25.1       30.582857  29.524286  33.968571  33.238571  38.685715\n",
            "  37.527142  37.998573  33.572857  16.181429  11.725715   9.218572\n",
            "   9.898571  17.171429  15.818571  16.434286  11.448571   9.062857\n",
            "   9.784286   8.121428   8.531428   7.777143  11.32      11.672857\n",
            "  13.227143  23.605715  26.868572  27.040001  30.867144  32.32143\n",
            "  30.155714  34.925713  40.558571  44.172855  46.068573  52.257141\n",
            "  52.595715  58.475716  63.66143   50.290001  46.005714  59.689999\n",
            "  62.942856  60.388573  68.234283  64.454285  56.110001  49.512856\n",
            "  48.80143   63.114285  67.844284  59.527142  79.5       89.151428\n",
            "  93.848572 114.309998 115.029999 103.260002 108.379997 123.330002\n",
            " 114.379997  91.839996  93.410004 102.230003  90.029999 102.57\n",
            "  91.480003  91.25      97.449997  98.550003 124.870003 117.\n",
            " 123.800003 140.710007 142.130005 147.809998 152.199997 163.070007\n",
            " 149.410004 181.660004 174.710007 181.350006 196.429993 195.509995\n",
            " 191.960007 270.299988 291.380005 295.350006 312.459991 351.600006\n",
            " 391.429993 337.450012 367.679993 374.130005 301.779999 286.130005\n",
            " 267.660004 339.5      358.100006 356.559998 370.540009 343.279999\n",
            " 367.320007 322.98999  293.75     267.619995 287.410004 314.660004\n",
            " 323.570007 345.089996 369.029999 375.5      419.850006 431.820007\n",
            " 438.269989]\n"
          ],
          "name": "stdout"
        }
      ]
    },
    {
      "cell_type": "code",
      "metadata": {
        "id": "Nk91a4OZvgk4",
        "colab_type": "code",
        "colab": {}
      },
      "source": [
        "#Split the data into 85% training and 15% testing\n",
        "x_train , x_test, y_train, y_test = train_test_split(X,y, test_size = 0.15)\n"
      ],
      "execution_count": 0,
      "outputs": []
    },
    {
      "cell_type": "code",
      "metadata": {
        "id": "NBiViWXgxCej",
        "colab_type": "code",
        "colab": {}
      },
      "source": [
        "#Create the models\n",
        "#Create the desicion tree regressor model\n",
        "tree = DecisionTreeRegressor().fit(x_train, y_train)\n",
        "#Create the linear regression model\n",
        "lr = LinearRegression().fit(x_train, y_train)"
      ],
      "execution_count": 0,
      "outputs": []
    },
    {
      "cell_type": "code",
      "metadata": {
        "id": "MOp8VuCSxYwJ",
        "colab_type": "code",
        "outputId": "f7098c18-9cce-4cc1-cfdc-63852a2bbbaa",
        "colab": {
          "base_uri": "https://localhost:8080/",
          "height": 471
        }
      },
      "source": [
        "#Get the las 'x' rows of the feature dataset\n",
        "x_future = df.drop(['Prediction'], 1)[:-future_days]\n",
        "x_future = x_future.tail(future_days)\n",
        "x_future = np.array(x_future)\n",
        "x_future"
      ],
      "execution_count": 71,
      "outputs": [
        {
          "output_type": "execute_result",
          "data": {
            "text/plain": [
              "array([[102.57    ],\n",
              "       [ 91.480003],\n",
              "       [ 91.25    ],\n",
              "       [ 97.449997],\n",
              "       [ 98.550003],\n",
              "       [124.870003],\n",
              "       [117.      ],\n",
              "       [123.800003],\n",
              "       [140.710007],\n",
              "       [142.130005],\n",
              "       [147.809998],\n",
              "       [152.199997],\n",
              "       [163.070007],\n",
              "       [149.410004],\n",
              "       [181.660004],\n",
              "       [174.710007],\n",
              "       [181.350006],\n",
              "       [196.429993],\n",
              "       [195.509995],\n",
              "       [191.960007],\n",
              "       [270.299988],\n",
              "       [291.380005],\n",
              "       [295.350006],\n",
              "       [312.459991],\n",
              "       [351.600006]])"
            ]
          },
          "metadata": {
            "tags": []
          },
          "execution_count": 71
        }
      ]
    },
    {
      "cell_type": "code",
      "metadata": {
        "id": "87QgZKTGx6jR",
        "colab_type": "code",
        "outputId": "04093961-3ed3-4037-9e9f-b00418e660de",
        "colab": {
          "base_uri": "https://localhost:8080/",
          "height": 217
        }
      },
      "source": [
        "#Show the model tree prediction\n",
        "tree_prediction = tree.predict(x_future)\n",
        "print(tree_prediction)\n",
        "print()\n",
        "#Show the model linear regression prediction\n",
        "lr_prediction = lr.predict(x_future)\n",
        "print(lr_prediction)"
      ],
      "execution_count": 72,
      "outputs": [
        {
          "output_type": "stream",
          "text": [
            "[391.429993 337.450012 367.679993 374.130005 301.779999 267.660004\n",
            " 267.660004 267.660004 358.100006 356.559998 322.98999  343.279999\n",
            " 367.320007 322.98999  293.75     267.619995 293.75     314.660004\n",
            " 323.570007 345.089996 369.029999 375.5      419.850006 431.820007\n",
            " 438.269989]\n",
            "\n",
            "[187.4900267  169.02105251 168.63801187 178.96331535 180.79523491\n",
            " 224.62783475 211.52134949 222.84588636 251.00733919 253.37216458\n",
            " 262.83146778 270.14245066 288.24506459 265.49607351 319.20433129\n",
            " 307.62999856 318.6880692  343.80186235 342.26972313 336.35767133\n",
            " 466.82290837 501.92898549 508.54051532 537.03501098 602.21770913]\n"
          ],
          "name": "stdout"
        }
      ]
    },
    {
      "cell_type": "code",
      "metadata": {
        "id": "3FpqrbcByGgX",
        "colab_type": "code",
        "outputId": "ce078eff-dce0-4c3a-f6d2-8b352a9fa597",
        "colab": {
          "base_uri": "https://localhost:8080/",
          "height": 642
        }
      },
      "source": [
        "#Visualize the data\n",
        "predictions = tree_prediction\n",
        "valid = df[X.shape[0]:]\n",
        "valid ['Predictions'] = predictions\n",
        "plt.figure(figsize=(16,8))\n",
        "plt.title('Model')\n",
        "plt.xlabel('Days')\n",
        "plt.ylabel('Close')\n",
        "plt.plot(df['Close'])\n",
        "plt.plot(valid[['Close', 'Predictions']])\n",
        "plt.legend(['Original', 'Validation', 'Predicted'])\n",
        "plt.show()"
      ],
      "execution_count": 73,
      "outputs": [
        {
          "output_type": "stream",
          "text": [
            "/usr/local/lib/python3.6/dist-packages/ipykernel_launcher.py:4: SettingWithCopyWarning: \n",
            "A value is trying to be set on a copy of a slice from a DataFrame.\n",
            "Try using .loc[row_indexer,col_indexer] = value instead\n",
            "\n",
            "See the caveats in the documentation: https://pandas.pydata.org/pandas-docs/stable/user_guide/indexing.html#returning-a-view-versus-a-copy\n",
            "  after removing the cwd from sys.path.\n"
          ],
          "name": "stderr"
        },
        {
          "output_type": "display_data",
          "data": {
            "image/png": "[encoded data removed]",
            "text/plain": [
              "<Figure size 1152x576 with 1 Axes>"
            ]
          },
          "metadata": {
            "tags": [],
            "needs_background": "light"
          }
        }
      ]
    },
    {
      "cell_type": "code",
      "metadata": {
        "id": "c_uqkcIwzlje",
        "colab_type": "code",
        "outputId": "665c34bc-8009-4f2c-c70b-9cf2a74b9e75",
        "colab": {
          "base_uri": "https://localhost:8080/",
          "height": 642
        }
      },
      "source": [
        "#Visualize the data\n",
        "predictions = lr_prediction\n",
        "valid = df[X.shape[0]:]\n",
        "valid ['Predictions'] = predictions\n",
        "plt.figure(figsize=(16,8))\n",
        "plt.title('Model')\n",
        "plt.xlabel('Days')\n",
        "plt.ylabel('Close')\n",
        "plt.plot(df['Close'])\n",
        "plt.plot(valid[['Close', 'Predictions']])\n",
        "plt.legend(['Original', 'Validation', 'Predicted'])\n",
        "plt.show()"
      ],
      "execution_count": 74,
      "outputs": [
        {
          "output_type": "stream",
          "text": [
            "/usr/local/lib/python3.6/dist-packages/ipykernel_launcher.py:4: SettingWithCopyWarning: \n",
            "A value is trying to be set on a copy of a slice from a DataFrame.\n",
            "Try using .loc[row_indexer,col_indexer] = value instead\n",
            "\n",
            "See the caveats in the documentation: https://pandas.pydata.org/pandas-docs/stable/user_guide/indexing.html#returning-a-view-versus-a-copy\n",
            "  after removing the cwd from sys.path.\n"
          ],
          "name": "stderr"
        },
        {
          "output_type": "display_data",
          "data": {
            "image/png": "[encoded data removed]",
            "text/plain": [
              "<Figure size 1152x576 with 1 Axes>"
            ]
          },
          "metadata": {
            "tags": [],
            "needs_background": "light"
          }
        }
      ]
    },
    {
      "cell_type": "code",
      "metadata": {
        "id": "wNhLlI6Jz9Or",
        "colab_type": "code",
        "colab": {}
      },
      "source": [
        ""
      ],
      "execution_count": 0,
      "outputs": []
    }
  ]
}